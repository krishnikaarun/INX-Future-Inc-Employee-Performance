{
 "cells": [
  {
   "cell_type": "code",
   "execution_count": 3,
   "id": "9125a0aa",
   "metadata": {},
   "outputs": [
    {
     "name": "stdout",
     "output_type": "stream",
     "text": [
      "Requirement already satisfied: import-ipynb in c:\\users\\krish\\anaconda3\\lib\\site-packages (0.1.4)\n",
      "Requirement already satisfied: IPython in c:\\users\\krish\\anaconda3\\lib\\site-packages (from import-ipynb) (8.2.0)\n",
      "Requirement already satisfied: nbformat in c:\\users\\krish\\anaconda3\\lib\\site-packages (from import-ipynb) (5.3.0)\n",
      "Requirement already satisfied: colorama in c:\\users\\krish\\anaconda3\\lib\\site-packages (from IPython->import-ipynb) (0.4.4)\n",
      "Requirement already satisfied: decorator in c:\\users\\krish\\anaconda3\\lib\\site-packages (from IPython->import-ipynb) (5.1.1)\n",
      "Requirement already satisfied: stack-data in c:\\users\\krish\\anaconda3\\lib\\site-packages (from IPython->import-ipynb) (0.2.0)\n",
      "Requirement already satisfied: jedi>=0.16 in c:\\users\\krish\\anaconda3\\lib\\site-packages (from IPython->import-ipynb) (0.18.1)\n",
      "Requirement already satisfied: traitlets>=5 in c:\\users\\krish\\anaconda3\\lib\\site-packages (from IPython->import-ipynb) (5.1.1)\n",
      "Requirement already satisfied: matplotlib-inline in c:\\users\\krish\\anaconda3\\lib\\site-packages (from IPython->import-ipynb) (0.1.2)\n",
      "Requirement already satisfied: prompt-toolkit!=3.0.0,!=3.0.1,<3.1.0,>=2.0.0 in c:\\users\\krish\\anaconda3\\lib\\site-packages (from IPython->import-ipynb) (3.0.20)\n",
      "Requirement already satisfied: pygments>=2.4.0 in c:\\users\\krish\\anaconda3\\lib\\site-packages (from IPython->import-ipynb) (2.11.2)\n",
      "Requirement already satisfied: pickleshare in c:\\users\\krish\\anaconda3\\lib\\site-packages (from IPython->import-ipynb) (0.7.5)\n",
      "Requirement already satisfied: setuptools>=18.5 in c:\\users\\krish\\anaconda3\\lib\\site-packages (from IPython->import-ipynb) (61.2.0)\n",
      "Requirement already satisfied: backcall in c:\\users\\krish\\anaconda3\\lib\\site-packages (from IPython->import-ipynb) (0.2.0)\n",
      "Requirement already satisfied: parso<0.9.0,>=0.8.0 in c:\\users\\krish\\anaconda3\\lib\\site-packages (from jedi>=0.16->IPython->import-ipynb) (0.8.3)\n",
      "Requirement already satisfied: wcwidth in c:\\users\\krish\\anaconda3\\lib\\site-packages (from prompt-toolkit!=3.0.0,!=3.0.1,<3.1.0,>=2.0.0->IPython->import-ipynb) (0.2.5)\n",
      "Requirement already satisfied: jsonschema>=2.6 in c:\\users\\krish\\anaconda3\\lib\\site-packages (from nbformat->import-ipynb) (4.4.0)\n",
      "Requirement already satisfied: jupyter-core in c:\\users\\krish\\anaconda3\\lib\\site-packages (from nbformat->import-ipynb) (4.9.2)\n",
      "Requirement already satisfied: fastjsonschema in c:\\users\\krish\\anaconda3\\lib\\site-packages (from nbformat->import-ipynb) (2.15.1)\n",
      "Requirement already satisfied: attrs>=17.4.0 in c:\\users\\krish\\anaconda3\\lib\\site-packages (from jsonschema>=2.6->nbformat->import-ipynb) (21.4.0)\n",
      "Requirement already satisfied: pyrsistent!=0.17.0,!=0.17.1,!=0.17.2,>=0.14.0 in c:\\users\\krish\\anaconda3\\lib\\site-packages (from jsonschema>=2.6->nbformat->import-ipynb) (0.18.0)\n",
      "Requirement already satisfied: pywin32>=1.0 in c:\\users\\krish\\anaconda3\\lib\\site-packages (from jupyter-core->nbformat->import-ipynb) (302)\n",
      "Requirement already satisfied: asttokens in c:\\users\\krish\\anaconda3\\lib\\site-packages (from stack-data->IPython->import-ipynb) (2.0.5)\n",
      "Requirement already satisfied: pure-eval in c:\\users\\krish\\anaconda3\\lib\\site-packages (from stack-data->IPython->import-ipynb) (0.2.2)\n",
      "Requirement already satisfied: executing in c:\\users\\krish\\anaconda3\\lib\\site-packages (from stack-data->IPython->import-ipynb) (0.8.3)\n",
      "Note: you may need to restart the kernel to use updated packages.Requirement already satisfied: six in c:\\users\\krish\\anaconda3\\lib\\site-packages (from asttokens->stack-data->IPython->import-ipynb) (1.16.0)\n",
      "\n"
     ]
    }
   ],
   "source": [
    "%pip install import-ipynb"
   ]
  },
  {
   "cell_type": "code",
   "execution_count": 4,
   "id": "f4de0083",
   "metadata": {},
   "outputs": [],
   "source": [
    "import import_ipynb\n",
    "\n",
    "import warnings\n",
    "warnings.filterwarnings('ignore')"
   ]
  },
  {
   "cell_type": "code",
   "execution_count": 5,
   "id": "dc98c4a3",
   "metadata": {},
   "outputs": [],
   "source": [
    "%store -r data"
   ]
  },
  {
   "cell_type": "markdown",
   "id": "432d7b0d",
   "metadata": {},
   "source": [
    "# The Expected insights from this project."
   ]
  },
  {
   "cell_type": "markdown",
   "id": "5a219756",
   "metadata": {},
   "source": [
    "### 1) Department wise performances"
   ]
  },
  {
   "cell_type": "code",
   "execution_count": 6,
   "id": "7799b621",
   "metadata": {},
   "outputs": [
    {
     "data": {
      "image/png": "[encoded data removed]",
      "text/plain": [
       "<Figure size 864x360 with 1 Axes>"
      ]
     },
     "metadata": {
      "needs_background": "light"
     },
     "output_type": "display_data"
    }
   ],
   "source": [
    "plt.figure(figsize=(12, 5))\n",
    "sns.countplot(x='EmpDepartment', hue='PerformanceRating', data = data)\n",
    "plt.title('Department-wise Performance')\n",
    "plt.xlabel('Department')\n",
    "plt.ylabel('Count')\n",
    "plt.legend(title='Performance Rating')\n",
    "plt.show()"
   ]
  },
  {
   "cell_type": "markdown",
   "id": "59b75bb0",
   "metadata": {},
   "source": [
    "### 2) Top 3 Important Factors effecting employee performance"
   ]
  },
  {
   "cell_type": "markdown",
   "id": "6c4d39f3",
   "metadata": {},
   "source": [
    "From the Heatmap the top 3 Important Factor affecting Employee perfomance are:\n",
    "1) EmpLastSalaryHikePercent\n",
    "\n",
    "2) EmpDepartment\n",
    "\n",
    "3) YearsSinceLastPromotion\n"
   ]
  },
  {
   "cell_type": "markdown",
   "id": "4ecedcd3",
   "metadata": {},
   "source": [
    "### 3) A trained model which can predict the employee performance based on factors as inputs. This will be used to hire employees"
   ]
  },
  {
   "cell_type": "markdown",
   "id": "b1615a3f",
   "metadata": {},
   "source": [
    "Random Forest Classifier is the best Trained model with accuracy of 95%"
   ]
  },
  {
   "cell_type": "markdown",
   "id": "a6117051",
   "metadata": {},
   "source": [
    "### 4) Recommendations to improve the employee performance based on insights from analysis."
   ]
  },
  {
   "cell_type": "markdown",
   "id": "4cbcfee6",
   "metadata": {},
   "source": [
    "1) Training and Development: Offer regular training and development programs to employees to enhance their skills and knowledge. Employees who undergo frequent training tend to have higher performance ratings.\n",
    "\n",
    "2) Work-Life Balance: Ensure a healthy work-life balance for employees. Employees with a better work-life balance are more likely to be satisfied and perform well.\n",
    "\n",
    "3) Performance-Based Incentives: Implement a performance-based incentive system to motivate employees. Recognizing and rewarding high-performing employees can boost their morale and encourage others to improve their performance.\n",
    "\n",
    "4) Employee Engagement: Focus on improving employee engagement through team-building activities, open communication, and a positive work environment. Engaged employees are more likely to be productive and committed to their work.\n",
    "\n",
    "5) Promotions and Career Growth: Provide opportunities for career growth and advancement within the organization. Employees who see potential career growth are more likely to stay motivated and perform better.\n",
    "\n",
    "6) Address Attrition Concerns: Address attrition concerns by understanding the reasons for employee turnover. Take necessary steps to retain top-performing employees and create a supportive work culture.\n",
    "\n",
    "7) Recognition and Appreciation: Recognize and appreciate employees' efforts and achievements. Acknowledging their hard work boosts motivation and encourages them to excel further."
   ]
  },
  {
   "cell_type": "markdown",
   "id": "12718214",
   "metadata": {},
   "source": [
    "# PROJECT SUMMARY\n",
    "\n",
    "1. The algorithm and training method(s) you used.\n",
    "\n",
    "     Logistic Regression, Random Forest Classifier, Decision Tree Classifier, K-Nearest Neighbors (KNN), Multinomial Naive Bayes, Gaussian Naive Bayes, and Bernoulli Naive Bayes. \n",
    "\n",
    "2. The most important features selected for analysis and why? / 4.  What were the most important features selected for analysis and why?\n",
    "\n",
    "    The most important features selected for analysis are likely to be those that have the strongest correlation with the target variable, which is the \"PerformanceRating.\" They are: EmpLastSalaryHikePercent, EmpEnvironmentSatisfaction, ExperienceYearsAtThisCompany, EmpJobInvolvement, EmpWorkLifeBalance, EmpJobLevel, YearsSinceLastPromotion, EmpDepartment, EmpEducationLevel and NumCompaniesWorked\n",
    "\n",
    "3. Other techniques and tools used in the project.\n",
    "    \n",
    "    There are few other used for the project they are: Select K best, Chi-Squared, Random Search CV, Grid Search CV, important Feature.\n",
    "\n",
    "5. Did you make any important feature transformations?\n",
    "    \n",
    "    Yes, Encoding Categorical Features, Select K Best and Chi-Square is used.\n",
    "\n",
    "6. Correlation or interactions among the features selected and how it is considered?\n",
    "    \n",
    "    Correlation and interactions among features are essential aspects to consider in a machine learning project. They can provide valuable insights into how different features relate to each other and influence the target variable (employee performance in this case).\n",
    "\n",
    "7. Did you find any interesting relationships in the data that don't fit in the sections above?\n",
    "    \n",
    "    Few of the column does not releted to the perfomace Rating like Educational Background\n",
    "    \n",
    "8. What is most important technique you used in this project?\n",
    "    \n",
    "    The important technique in this project is handling Imbalanced dataset, if it is not handled the project might give 100% biased accuracy.\n",
    "\n",
    "9. Provide clear answers to the business problems mentioned in the project on basis of analysis.\n",
    "\n",
    "1) The analysis provided various insights into the employee dataset:\n",
    "2) Most employees fall in the age range of 30-40 years.\n",
    "3) Employees predominantly live close to the office.\n",
    "4) Sales and Development departments have the highest employee count.\n",
    "5) There is a gender imbalance, with 60% male and 40% female employees.\n",
    "6) The company has a relatively low attrition rate.\n",
    "7) Job satisfaction and environment satisfaction are generally high.\n",
    "8) Most employees have completed their Bachelor's degrees.\n",
    "\n",
    "    Recommendations based on Insights:\n",
    "\n",
    "    Focus on Salary Hikes: Providing competitive salary hikes and promotions can motivate employees to perform better and reduce attrition rates.\n",
    "    \n",
    "    Improve Work Environment: Enhancing the work environment, such as creating a positive and inclusive culture, can boost employee morale and performance.\n",
    "    \n",
    "    Training and Development: Investing in training and development programs can help employees upskill and improve their performance.\n",
    "    \n",
    "    Recognition and Rewards: Implementing recognition and reward systems for high-performing employees can encourage others to excel.\n",
    "    \n",
    "    Employee Engagement: Conduct regular surveys and feedback sessions to understand employee needs and address any concerns related to job satisfaction and work-life balance.\n",
    "    \n",
    "    Diversity and Inclusion: Promote diversity and inclusion within the organization to create a more balanced and innovative workforce.\n",
    "    \n",
    "    Career Growth Opportunities: Provide clear career paths and growth opportunities to encourage employees to stay longer with the company and perform better"
   ]
  },
  {
   "cell_type": "code",
   "execution_count": null,
   "id": "9bd2afdc",
   "metadata": {},
   "outputs": [],
   "source": []
  }
 ],
 "metadata": {
  "kernelspec": {
   "display_name": "Python 3 (ipykernel)",
   "language": "python",
   "name": "python3"
  },
  "language_info": {
   "codemirror_mode": {
    "name": "ipython",
    "version": 3
   },
   "file_extension": ".py",
   "mimetype": "text/x-python",
   "name": "python",
   "nbconvert_exporter": "python",
   "pygments_lexer": "ipython3",
   "version": "3.9.12"
  }
 },
 "nbformat": 4,
 "nbformat_minor": 5
}
