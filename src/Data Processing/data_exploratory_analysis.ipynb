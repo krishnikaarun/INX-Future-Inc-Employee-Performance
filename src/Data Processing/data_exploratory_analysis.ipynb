{
 "cells": [
  {
   "cell_type": "code",
   "execution_count": 1,
   "id": "c414c66d",
   "metadata": {
    "scrolled": true
   },
   "outputs": [
    {
     "name": "stdout",
     "output_type": "stream",
     "text": [
      "Requirement already satisfied: import-ipynb in c:\\users\\krish\\anaconda3\\lib\\site-packages (0.1.4)\n",
      "Requirement already satisfied: IPython in c:\\users\\krish\\anaconda3\\lib\\site-packages (from import-ipynb) (8.2.0)\n",
      "Requirement already satisfied: nbformat in c:\\users\\krish\\anaconda3\\lib\\site-packages (from import-ipynb) (5.3.0)\n",
      "Requirement already satisfied: setuptools>=18.5 in c:\\users\\krish\\anaconda3\\lib\\site-packages (from IPython->import-ipynb) (61.2.0)\n",
      "Requirement already satisfied: pygments>=2.4.0 in c:\\users\\krish\\anaconda3\\lib\\site-packages (from IPython->import-ipynb) (2.11.2)\n",
      "Requirement already satisfied: decorator in c:\\users\\krish\\anaconda3\\lib\\site-packages (from IPython->import-ipynb) (5.1.1)\n",
      "Requirement already satisfied: traitlets>=5 in c:\\users\\krish\\anaconda3\\lib\\site-packages (from IPython->import-ipynb) (5.1.1)\n",
      "Requirement already satisfied: prompt-toolkit!=3.0.0,!=3.0.1,<3.1.0,>=2.0.0 in c:\\users\\krish\\anaconda3\\lib\\site-packages (from IPython->import-ipynb) (3.0.20)\n",
      "Requirement already satisfied: pickleshare in c:\\users\\krish\\anaconda3\\lib\\site-packages (from IPython->import-ipynb) (0.7.5)\n",
      "Requirement already satisfied: matplotlib-inline in c:\\users\\krish\\anaconda3\\lib\\site-packages (from IPython->import-ipynb) (0.1.2)\n",
      "Requirement already satisfied: backcall in c:\\users\\krish\\anaconda3\\lib\\site-packages (from IPython->import-ipynb) (0.2.0)\n",
      "Requirement already satisfied: stack-data in c:\\users\\krish\\anaconda3\\lib\\site-packages (from IPython->import-ipynb) (0.2.0)\n",
      "Requirement already satisfied: colorama in c:\\users\\krish\\anaconda3\\lib\\site-packages (from IPython->import-ipynb) (0.4.4)\n",
      "Requirement already satisfied: jedi>=0.16 in c:\\users\\krish\\anaconda3\\lib\\site-packages (from IPython->import-ipynb) (0.18.1)\n",
      "Requirement already satisfied: parso<0.9.0,>=0.8.0 in c:\\users\\krish\\anaconda3\\lib\\site-packages (from jedi>=0.16->IPython->import-ipynb) (0.8.3)\n",
      "Requirement already satisfied: wcwidth in c:\\users\\krish\\anaconda3\\lib\\site-packages (from prompt-toolkit!=3.0.0,!=3.0.1,<3.1.0,>=2.0.0->IPython->import-ipynb) (0.2.5)\n",
      "Requirement already satisfied: jsonschema>=2.6 in c:\\users\\krish\\anaconda3\\lib\\site-packages (from nbformat->import-ipynb) (4.4.0)\n",
      "Requirement already satisfied: fastjsonschema in c:\\users\\krish\\anaconda3\\lib\\site-packages (from nbformat->import-ipynb) (2.15.1)\n",
      "Requirement already satisfied: jupyter-core in c:\\users\\krish\\anaconda3\\lib\\site-packages (from nbformat->import-ipynb) (4.9.2)\n",
      "Requirement already satisfied: attrs>=17.4.0 in c:\\users\\krish\\anaconda3\\lib\\site-packages (from jsonschema>=2.6->nbformat->import-ipynb) (21.4.0)\n",
      "Requirement already satisfied: pyrsistent!=0.17.0,!=0.17.1,!=0.17.2,>=0.14.0 in c:\\users\\krish\\anaconda3\\lib\\site-packages (from jsonschema>=2.6->nbformat->import-ipynb) (0.18.0)\n",
      "Requirement already satisfied: pywin32>=1.0 in c:\\users\\krish\\anaconda3\\lib\\site-packages (from jupyter-core->nbformat->import-ipynb) (302)\n",
      "Requirement already satisfied: pure-eval in c:\\users\\krish\\anaconda3\\lib\\site-packages (from stack-data->IPython->import-ipynb) (0.2.2)\n",
      "Requirement already satisfied: asttokens in c:\\users\\krish\\anaconda3\\lib\\site-packages (from stack-data->IPython->import-ipynb) (2.0.5)\n",
      "Requirement already satisfied: executing in c:\\users\\krish\\anaconda3\\lib\\site-packages (from stack-data->IPython->import-ipynb) (0.8.3)\n",
      "Requirement already satisfied: six in c:\\users\\krish\\anaconda3\\lib\\site-packages (from asttokens->stack-data->IPython->import-ipynb) (1.16.0)\n",
      "Note: you may need to restart the kernel to use updated packages.\n"
     ]
    }
   ],
   "source": [
    "%pip install import-ipynb"
   ]
  },
  {
   "cell_type": "code",
   "execution_count": 2,
   "id": "391fed50",
   "metadata": {},
   "outputs": [],
   "source": [
    "# Importing libraries\n",
    "import import_ipynb\n",
    "import matplotlib.pyplot as plt\n",
    "import seaborn as sns\n",
    "from sklearn.preprocessing import LabelEncoder\n",
    "import copy\n",
    "\n",
    "import warnings\n",
    "warnings.filterwarnings('ignore')"
   ]
  },
  {
   "cell_type": "code",
   "execution_count": 3,
   "id": "d8c7c3ba",
   "metadata": {},
   "outputs": [],
   "source": [
    "# Reading stored data from another .ipynb file\n",
    "%store -r data"
   ]
  },
  {
   "cell_type": "code",
   "execution_count": 4,
   "id": "5685c973",
   "metadata": {},
   "outputs": [],
   "source": [
    "# Viewinf head of the data \n",
    "data.head()\n",
    "\n",
    "# Making a copy of the data for future use\n",
    "data_copy = copy.copy(data)"
   ]
  },
  {
   "cell_type": "markdown",
   "id": "62377e8f",
   "metadata": {},
   "source": [
    "# Exploratory Data Analysis"
   ]
  },
  {
   "cell_type": "code",
   "execution_count": 5,
   "id": "dbe32322",
   "metadata": {},
   "outputs": [
    {
     "name": "stdout",
     "output_type": "stream",
     "text": [
      "<class 'pandas.core.frame.DataFrame'>\n",
      "RangeIndex: 1200 entries, 0 to 1199\n",
      "Data columns (total 28 columns):\n",
      " #   Column                        Non-Null Count  Dtype \n",
      "---  ------                        --------------  ----- \n",
      " 0   EmpNumber                     1200 non-null   object\n",
      " 1   Age                           1200 non-null   int64 \n",
      " 2   Gender                        1200 non-null   object\n",
      " 3   EducationBackground           1200 non-null   object\n",
      " 4   MaritalStatus                 1200 non-null   object\n",
      " 5   EmpDepartment                 1200 non-null   object\n",
      " 6   EmpJobRole                    1200 non-null   object\n",
      " 7   BusinessTravelFrequency       1200 non-null   object\n",
      " 8   DistanceFromHome              1200 non-null   int64 \n",
      " 9   EmpEducationLevel             1200 non-null   int64 \n",
      " 10  EmpEnvironmentSatisfaction    1200 non-null   int64 \n",
      " 11  EmpHourlyRate                 1200 non-null   int64 \n",
      " 12  EmpJobInvolvement             1200 non-null   int64 \n",
      " 13  EmpJobLevel                   1200 non-null   int64 \n",
      " 14  EmpJobSatisfaction            1200 non-null   int64 \n",
      " 15  NumCompaniesWorked            1200 non-null   int64 \n",
      " 16  OverTime                      1200 non-null   object\n",
      " 17  EmpLastSalaryHikePercent      1200 non-null   int64 \n",
      " 18  EmpRelationshipSatisfaction   1200 non-null   int64 \n",
      " 19  TotalWorkExperienceInYears    1200 non-null   int64 \n",
      " 20  TrainingTimesLastYear         1200 non-null   int64 \n",
      " 21  EmpWorkLifeBalance            1200 non-null   int64 \n",
      " 22  ExperienceYearsAtThisCompany  1200 non-null   int64 \n",
      " 23  ExperienceYearsInCurrentRole  1200 non-null   int64 \n",
      " 24  YearsSinceLastPromotion       1200 non-null   int64 \n",
      " 25  YearsWithCurrManager          1200 non-null   int64 \n",
      " 26  Attrition                     1200 non-null   object\n",
      " 27  PerformanceRating             1200 non-null   int64 \n",
      "dtypes: int64(19), object(9)\n",
      "memory usage: 262.6+ KB\n"
     ]
    }
   ],
   "source": [
    "# Viewing the data types\n",
    "data.info()"
   ]
  },
  {
   "cell_type": "code",
   "execution_count": 6,
   "id": "f7d064b2",
   "metadata": {},
   "outputs": [],
   "source": [
    "# Naming the values as per Data Definitions\n",
    "EmpEducationLevel_mapping = {1:'Below College' ,2:'College', 3:'Bachelor', 4:'Master', 5:'Doctor'}\n",
    "general_mapping = {1:'Low', 2:'Medium', 3:'High', 4:'Very High'}\n",
    "PerformanceRating_mapping = {1:'Low', 2:'Good', 3:'Excellent', 4:'Outstanding'}\n",
    "EmpWorkLifeBalance_mapping = {1:'Bad', 2:'Good', 3:'Better', 4:'Best'}\n",
    "\n",
    "data['EmpEducationLevel'] = data['EmpEducationLevel'].replace(EmpEducationLevel_mapping)\n",
    "data['EmpEnvironmentSatisfaction'] = data['EmpEnvironmentSatisfaction'].replace(general_mapping)\n",
    "data['EmpJobInvolvement'] = data['EmpJobInvolvement'].replace(general_mapping)\n",
    "data['EmpJobSatisfaction'] = data['EmpJobSatisfaction'].replace(general_mapping)\n",
    "data['PerformanceRating'] = data['PerformanceRating'].replace(PerformanceRating_mapping)\n",
    "data['EmpRelationshipSatisfaction'] = data['EmpRelationshipSatisfaction'].replace(PerformanceRating_mapping)\n",
    "data['EmpWorkLifeBalance'] = data['EmpWorkLifeBalance'].replace(PerformanceRating_mapping)"
   ]
  },
  {
   "cell_type": "code",
   "execution_count": 7,
   "id": "e86e6111",
   "metadata": {},
   "outputs": [
    {
     "data": {
      "text/html": [
       "<div>\n",
       "<style scoped>\n",
       "    .dataframe tbody tr th:only-of-type {\n",
       "        vertical-align: middle;\n",
       "    }\n",
       "\n",
       "    .dataframe tbody tr th {\n",
       "        vertical-align: top;\n",
       "    }\n",
       "\n",
       "    .dataframe thead th {\n",
       "        text-align: right;\n",
       "    }\n",
       "</style>\n",
       "<table border=\"1\" class=\"dataframe\">\n",
       "  <thead>\n",
       "    <tr style=\"text-align: right;\">\n",
       "      <th></th>\n",
       "      <th>Age</th>\n",
       "      <th>DistanceFromHome</th>\n",
       "      <th>EmpHourlyRate</th>\n",
       "      <th>EmpJobLevel</th>\n",
       "      <th>NumCompaniesWorked</th>\n",
       "      <th>EmpLastSalaryHikePercent</th>\n",
       "      <th>TotalWorkExperienceInYears</th>\n",
       "      <th>TrainingTimesLastYear</th>\n",
       "      <th>ExperienceYearsAtThisCompany</th>\n",
       "      <th>ExperienceYearsInCurrentRole</th>\n",
       "      <th>YearsSinceLastPromotion</th>\n",
       "      <th>YearsWithCurrManager</th>\n",
       "    </tr>\n",
       "  </thead>\n",
       "  <tbody>\n",
       "    <tr>\n",
       "      <th>count</th>\n",
       "      <td>1200.000000</td>\n",
       "      <td>1200.000000</td>\n",
       "      <td>1200.000000</td>\n",
       "      <td>1200.000000</td>\n",
       "      <td>1200.000000</td>\n",
       "      <td>1200.000000</td>\n",
       "      <td>1200.000000</td>\n",
       "      <td>1200.000000</td>\n",
       "      <td>1200.000000</td>\n",
       "      <td>1200.000000</td>\n",
       "      <td>1200.000000</td>\n",
       "      <td>1200.000000</td>\n",
       "    </tr>\n",
       "    <tr>\n",
       "      <th>mean</th>\n",
       "      <td>36.918333</td>\n",
       "      <td>9.165833</td>\n",
       "      <td>65.981667</td>\n",
       "      <td>2.067500</td>\n",
       "      <td>2.665000</td>\n",
       "      <td>15.222500</td>\n",
       "      <td>11.330000</td>\n",
       "      <td>2.785833</td>\n",
       "      <td>7.077500</td>\n",
       "      <td>4.291667</td>\n",
       "      <td>2.194167</td>\n",
       "      <td>4.105000</td>\n",
       "    </tr>\n",
       "    <tr>\n",
       "      <th>std</th>\n",
       "      <td>9.087289</td>\n",
       "      <td>8.176636</td>\n",
       "      <td>20.211302</td>\n",
       "      <td>1.107836</td>\n",
       "      <td>2.469384</td>\n",
       "      <td>3.625918</td>\n",
       "      <td>7.797228</td>\n",
       "      <td>1.263446</td>\n",
       "      <td>6.236899</td>\n",
       "      <td>3.613744</td>\n",
       "      <td>3.221560</td>\n",
       "      <td>3.541576</td>\n",
       "    </tr>\n",
       "    <tr>\n",
       "      <th>min</th>\n",
       "      <td>18.000000</td>\n",
       "      <td>1.000000</td>\n",
       "      <td>30.000000</td>\n",
       "      <td>1.000000</td>\n",
       "      <td>0.000000</td>\n",
       "      <td>11.000000</td>\n",
       "      <td>0.000000</td>\n",
       "      <td>0.000000</td>\n",
       "      <td>0.000000</td>\n",
       "      <td>0.000000</td>\n",
       "      <td>0.000000</td>\n",
       "      <td>0.000000</td>\n",
       "    </tr>\n",
       "    <tr>\n",
       "      <th>25%</th>\n",
       "      <td>30.000000</td>\n",
       "      <td>2.000000</td>\n",
       "      <td>48.000000</td>\n",
       "      <td>1.000000</td>\n",
       "      <td>1.000000</td>\n",
       "      <td>12.000000</td>\n",
       "      <td>6.000000</td>\n",
       "      <td>2.000000</td>\n",
       "      <td>3.000000</td>\n",
       "      <td>2.000000</td>\n",
       "      <td>0.000000</td>\n",
       "      <td>2.000000</td>\n",
       "    </tr>\n",
       "    <tr>\n",
       "      <th>50%</th>\n",
       "      <td>36.000000</td>\n",
       "      <td>7.000000</td>\n",
       "      <td>66.000000</td>\n",
       "      <td>2.000000</td>\n",
       "      <td>2.000000</td>\n",
       "      <td>14.000000</td>\n",
       "      <td>10.000000</td>\n",
       "      <td>3.000000</td>\n",
       "      <td>5.000000</td>\n",
       "      <td>3.000000</td>\n",
       "      <td>1.000000</td>\n",
       "      <td>3.000000</td>\n",
       "    </tr>\n",
       "    <tr>\n",
       "      <th>75%</th>\n",
       "      <td>43.000000</td>\n",
       "      <td>14.000000</td>\n",
       "      <td>83.000000</td>\n",
       "      <td>3.000000</td>\n",
       "      <td>4.000000</td>\n",
       "      <td>18.000000</td>\n",
       "      <td>15.000000</td>\n",
       "      <td>3.000000</td>\n",
       "      <td>10.000000</td>\n",
       "      <td>7.000000</td>\n",
       "      <td>3.000000</td>\n",
       "      <td>7.000000</td>\n",
       "    </tr>\n",
       "    <tr>\n",
       "      <th>max</th>\n",
       "      <td>60.000000</td>\n",
       "      <td>29.000000</td>\n",
       "      <td>100.000000</td>\n",
       "      <td>5.000000</td>\n",
       "      <td>9.000000</td>\n",
       "      <td>25.000000</td>\n",
       "      <td>40.000000</td>\n",
       "      <td>6.000000</td>\n",
       "      <td>40.000000</td>\n",
       "      <td>18.000000</td>\n",
       "      <td>15.000000</td>\n",
       "      <td>17.000000</td>\n",
       "    </tr>\n",
       "  </tbody>\n",
       "</table>\n",
       "</div>"
      ],
      "text/plain": [
       "               Age  DistanceFromHome  EmpHourlyRate  EmpJobLevel  \\\n",
       "count  1200.000000       1200.000000    1200.000000  1200.000000   \n",
       "mean     36.918333          9.165833      65.981667     2.067500   \n",
       "std       9.087289          8.176636      20.211302     1.107836   \n",
       "min      18.000000          1.000000      30.000000     1.000000   \n",
       "25%      30.000000          2.000000      48.000000     1.000000   \n",
       "50%      36.000000          7.000000      66.000000     2.000000   \n",
       "75%      43.000000         14.000000      83.000000     3.000000   \n",
       "max      60.000000         29.000000     100.000000     5.000000   \n",
       "\n",
       "       NumCompaniesWorked  EmpLastSalaryHikePercent  \\\n",
       "count         1200.000000               1200.000000   \n",
       "mean             2.665000                 15.222500   \n",
       "std              2.469384                  3.625918   \n",
       "min              0.000000                 11.000000   \n",
       "25%              1.000000                 12.000000   \n",
       "50%              2.000000                 14.000000   \n",
       "75%              4.000000                 18.000000   \n",
       "max              9.000000                 25.000000   \n",
       "\n",
       "       TotalWorkExperienceInYears  TrainingTimesLastYear  \\\n",
       "count                 1200.000000            1200.000000   \n",
       "mean                    11.330000               2.785833   \n",
       "std                      7.797228               1.263446   \n",
       "min                      0.000000               0.000000   \n",
       "25%                      6.000000               2.000000   \n",
       "50%                     10.000000               3.000000   \n",
       "75%                     15.000000               3.000000   \n",
       "max                     40.000000               6.000000   \n",
       "\n",
       "       ExperienceYearsAtThisCompany  ExperienceYearsInCurrentRole  \\\n",
       "count                   1200.000000                   1200.000000   \n",
       "mean                       7.077500                      4.291667   \n",
       "std                        6.236899                      3.613744   \n",
       "min                        0.000000                      0.000000   \n",
       "25%                        3.000000                      2.000000   \n",
       "50%                        5.000000                      3.000000   \n",
       "75%                       10.000000                      7.000000   \n",
       "max                       40.000000                     18.000000   \n",
       "\n",
       "       YearsSinceLastPromotion  YearsWithCurrManager  \n",
       "count              1200.000000           1200.000000  \n",
       "mean                  2.194167              4.105000  \n",
       "std                   3.221560              3.541576  \n",
       "min                   0.000000              0.000000  \n",
       "25%                   0.000000              2.000000  \n",
       "50%                   1.000000              3.000000  \n",
       "75%                   3.000000              7.000000  \n",
       "max                  15.000000             17.000000  "
      ]
     },
     "execution_count": 7,
     "metadata": {},
     "output_type": "execute_result"
    }
   ],
   "source": [
    "# Describing to see statistical values of the integer columns\n",
    "data.describe()"
   ]
  },
  {
   "cell_type": "code",
   "execution_count": 8,
   "id": "adff9974",
   "metadata": {},
   "outputs": [
    {
     "data": {
      "text/html": [
       "<div>\n",
       "<style scoped>\n",
       "    .dataframe tbody tr th:only-of-type {\n",
       "        vertical-align: middle;\n",
       "    }\n",
       "\n",
       "    .dataframe tbody tr th {\n",
       "        vertical-align: top;\n",
       "    }\n",
       "\n",
       "    .dataframe thead th {\n",
       "        text-align: right;\n",
       "    }\n",
       "</style>\n",
       "<table border=\"1\" class=\"dataframe\">\n",
       "  <thead>\n",
       "    <tr style=\"text-align: right;\">\n",
       "      <th></th>\n",
       "      <th>EmpNumber</th>\n",
       "      <th>Gender</th>\n",
       "      <th>EducationBackground</th>\n",
       "      <th>MaritalStatus</th>\n",
       "      <th>EmpDepartment</th>\n",
       "      <th>EmpJobRole</th>\n",
       "      <th>BusinessTravelFrequency</th>\n",
       "      <th>EmpEducationLevel</th>\n",
       "      <th>EmpEnvironmentSatisfaction</th>\n",
       "      <th>EmpJobInvolvement</th>\n",
       "      <th>EmpJobSatisfaction</th>\n",
       "      <th>OverTime</th>\n",
       "      <th>EmpRelationshipSatisfaction</th>\n",
       "      <th>EmpWorkLifeBalance</th>\n",
       "      <th>Attrition</th>\n",
       "      <th>PerformanceRating</th>\n",
       "    </tr>\n",
       "  </thead>\n",
       "  <tbody>\n",
       "    <tr>\n",
       "      <th>count</th>\n",
       "      <td>1200</td>\n",
       "      <td>1200</td>\n",
       "      <td>1200</td>\n",
       "      <td>1200</td>\n",
       "      <td>1200</td>\n",
       "      <td>1200</td>\n",
       "      <td>1200</td>\n",
       "      <td>1200</td>\n",
       "      <td>1200</td>\n",
       "      <td>1200</td>\n",
       "      <td>1200</td>\n",
       "      <td>1200</td>\n",
       "      <td>1200</td>\n",
       "      <td>1200</td>\n",
       "      <td>1200</td>\n",
       "      <td>1200</td>\n",
       "    </tr>\n",
       "    <tr>\n",
       "      <th>unique</th>\n",
       "      <td>1200</td>\n",
       "      <td>2</td>\n",
       "      <td>6</td>\n",
       "      <td>3</td>\n",
       "      <td>6</td>\n",
       "      <td>19</td>\n",
       "      <td>3</td>\n",
       "      <td>5</td>\n",
       "      <td>4</td>\n",
       "      <td>4</td>\n",
       "      <td>4</td>\n",
       "      <td>2</td>\n",
       "      <td>4</td>\n",
       "      <td>4</td>\n",
       "      <td>2</td>\n",
       "      <td>3</td>\n",
       "    </tr>\n",
       "    <tr>\n",
       "      <th>top</th>\n",
       "      <td>E1001000</td>\n",
       "      <td>Male</td>\n",
       "      <td>Life Sciences</td>\n",
       "      <td>Married</td>\n",
       "      <td>Sales</td>\n",
       "      <td>Sales Executive</td>\n",
       "      <td>Travel_Rarely</td>\n",
       "      <td>Bachelor</td>\n",
       "      <td>High</td>\n",
       "      <td>High</td>\n",
       "      <td>Very High</td>\n",
       "      <td>No</td>\n",
       "      <td>Excellent</td>\n",
       "      <td>Excellent</td>\n",
       "      <td>No</td>\n",
       "      <td>Excellent</td>\n",
       "    </tr>\n",
       "    <tr>\n",
       "      <th>freq</th>\n",
       "      <td>1</td>\n",
       "      <td>725</td>\n",
       "      <td>492</td>\n",
       "      <td>548</td>\n",
       "      <td>373</td>\n",
       "      <td>270</td>\n",
       "      <td>846</td>\n",
       "      <td>449</td>\n",
       "      <td>367</td>\n",
       "      <td>724</td>\n",
       "      <td>378</td>\n",
       "      <td>847</td>\n",
       "      <td>379</td>\n",
       "      <td>727</td>\n",
       "      <td>1022</td>\n",
       "      <td>874</td>\n",
       "    </tr>\n",
       "  </tbody>\n",
       "</table>\n",
       "</div>"
      ],
      "text/plain": [
       "       EmpNumber Gender EducationBackground MaritalStatus EmpDepartment  \\\n",
       "count       1200   1200                1200          1200          1200   \n",
       "unique      1200      2                   6             3             6   \n",
       "top     E1001000   Male       Life Sciences       Married         Sales   \n",
       "freq           1    725                 492           548           373   \n",
       "\n",
       "             EmpJobRole BusinessTravelFrequency EmpEducationLevel  \\\n",
       "count              1200                    1200              1200   \n",
       "unique               19                       3                 5   \n",
       "top     Sales Executive           Travel_Rarely          Bachelor   \n",
       "freq                270                     846               449   \n",
       "\n",
       "       EmpEnvironmentSatisfaction EmpJobInvolvement EmpJobSatisfaction  \\\n",
       "count                        1200              1200               1200   \n",
       "unique                          4                 4                  4   \n",
       "top                          High              High          Very High   \n",
       "freq                          367               724                378   \n",
       "\n",
       "       OverTime EmpRelationshipSatisfaction EmpWorkLifeBalance Attrition  \\\n",
       "count      1200                        1200               1200      1200   \n",
       "unique        2                           4                  4         2   \n",
       "top          No                   Excellent          Excellent        No   \n",
       "freq        847                         379                727      1022   \n",
       "\n",
       "       PerformanceRating  \n",
       "count               1200  \n",
       "unique                 3  \n",
       "top            Excellent  \n",
       "freq                 874  "
      ]
     },
     "execution_count": 8,
     "metadata": {},
     "output_type": "execute_result"
    }
   ],
   "source": [
    "# Describing to see statistical values of the Categorical columns\n",
    "data.describe(include=['O'])"
   ]
  },
  {
   "cell_type": "code",
   "execution_count": 9,
   "id": "3adf94df",
   "metadata": {},
   "outputs": [
    {
     "name": "stdout",
     "output_type": "stream",
     "text": [
      "Total number of Interger columns:  12\n",
      "Index(['Age', 'DistanceFromHome', 'EmpHourlyRate', 'EmpJobLevel',\n",
      "       'NumCompaniesWorked', 'EmpLastSalaryHikePercent',\n",
      "       'TotalWorkExperienceInYears', 'TrainingTimesLastYear',\n",
      "       'ExperienceYearsAtThisCompany', 'ExperienceYearsInCurrentRole',\n",
      "       'YearsSinceLastPromotion', 'YearsWithCurrManager'],\n",
      "      dtype='object')\n"
     ]
    }
   ],
   "source": [
    "# Taking out the Integer columns\n",
    "data_int = data.select_dtypes(include='int').columns\n",
    "print(\"Total number of Interger columns: \",data_int.nunique())\n",
    "print(data_int)"
   ]
  },
  {
   "cell_type": "code",
   "execution_count": 10,
   "id": "11177712",
   "metadata": {},
   "outputs": [
    {
     "name": "stdout",
     "output_type": "stream",
     "text": [
      "Total number of Catgorical columns:  16\n",
      "Index(['EmpNumber', 'Gender', 'EducationBackground', 'MaritalStatus',\n",
      "       'EmpDepartment', 'EmpJobRole', 'BusinessTravelFrequency',\n",
      "       'EmpEducationLevel', 'EmpEnvironmentSatisfaction', 'EmpJobInvolvement',\n",
      "       'EmpJobSatisfaction', 'OverTime', 'EmpRelationshipSatisfaction',\n",
      "       'EmpWorkLifeBalance', 'Attrition', 'PerformanceRating'],\n",
      "      dtype='object')\n"
     ]
    }
   ],
   "source": [
    "# Taking out the Categorical columns\n",
    "data_cat = data.select_dtypes(include='object').columns\n",
    "print(\"Total number of Catgorical columns: \",data_cat.nunique())\n",
    "print(data_cat)"
   ]
  },
  {
   "cell_type": "markdown",
   "id": "daab6fde",
   "metadata": {},
   "source": [
    "## Numerical Columns"
   ]
  },
  {
   "cell_type": "markdown",
   "id": "85bac344",
   "metadata": {},
   "source": [
    "## Age"
   ]
  },
  {
   "cell_type": "code",
   "execution_count": 11,
   "id": "159a2198",
   "metadata": {
    "scrolled": false
   },
   "outputs": [
    {
     "data": {
      "text/plain": [
       "<AxesSubplot:xlabel='Age', ylabel='Density'>"
      ]
     },
     "execution_count": 11,
     "metadata": {},
     "output_type": "execute_result"
    },
    {
     "data": {
      "image/png": "[encoded data removed]",
      "text/plain": [
       "<Figure size 432x288 with 1 Axes>"
      ]
     },
     "metadata": {
      "needs_background": "light"
     },
     "output_type": "display_data"
    }
   ],
   "source": [
    "sns.distplot(data.Age)"
   ]
  },
  {
   "cell_type": "code",
   "execution_count": 12,
   "id": "22e264b1",
   "metadata": {},
   "outputs": [
    {
     "data": {
      "image/png": "[encoded data removed]",
      "text/plain": [
       "<Figure size 720x360 with 1 Axes>"
      ]
     },
     "metadata": {
      "needs_background": "light"
     },
     "output_type": "display_data"
    }
   ],
   "source": [
    "fig, ax = plt.subplots(figsize=(10, 5))\n",
    "data.groupby('Age')['PerformanceRating'].count().plot.bar()\n",
    "plt.show()"
   ]
  },
  {
   "cell_type": "markdown",
   "id": "b8e82865",
   "metadata": {},
   "source": [
    "## DistanceFromHome"
   ]
  },
  {
   "cell_type": "code",
   "execution_count": 13,
   "id": "6bdf9f55",
   "metadata": {
    "scrolled": true
   },
   "outputs": [
    {
     "data": {
      "text/plain": [
       "<AxesSubplot:xlabel='DistanceFromHome', ylabel='Density'>"
      ]
     },
     "execution_count": 13,
     "metadata": {},
     "output_type": "execute_result"
    },
    {
     "data": {
      "image/png": "[encoded data removed]",
      "text/plain": [
       "<Figure size 432x288 with 1 Axes>"
      ]
     },
     "metadata": {
      "needs_background": "light"
     },
     "output_type": "display_data"
    }
   ],
   "source": [
    "sns.distplot(data.DistanceFromHome)"
   ]
  },
  {
   "cell_type": "markdown",
   "id": "680ffd2d",
   "metadata": {},
   "source": [
    "## EmpHourlyRate"
   ]
  },
  {
   "cell_type": "code",
   "execution_count": 14,
   "id": "914aec66",
   "metadata": {
    "scrolled": true
   },
   "outputs": [
    {
     "data": {
      "text/plain": [
       "<AxesSubplot:xlabel='EmpHourlyRate', ylabel='Density'>"
      ]
     },
     "execution_count": 14,
     "metadata": {},
     "output_type": "execute_result"
    },
    {
     "data": {
      "image/png": "[encoded data removed]",
      "text/plain": [
       "<Figure size 432x288 with 1 Axes>"
      ]
     },
     "metadata": {
      "needs_background": "light"
     },
     "output_type": "display_data"
    }
   ],
   "source": [
    "sns.distplot(data.EmpHourlyRate)"
   ]
  },
  {
   "cell_type": "markdown",
   "id": "7d21b805",
   "metadata": {},
   "source": [
    "The data is evenly spread so can be ignored for Analysis"
   ]
  },
  {
   "cell_type": "markdown",
   "id": "66c597b6",
   "metadata": {},
   "source": [
    "## EmpJobLevel"
   ]
  },
  {
   "cell_type": "code",
   "execution_count": 15,
   "id": "49555b1b",
   "metadata": {},
   "outputs": [
    {
     "name": "stdout",
     "output_type": "stream",
     "text": [
      "The total number of values in column: 5\n"
     ]
    }
   ],
   "source": [
    "print(\"The total number of values in column:\",data.EmpJobLevel.nunique())"
   ]
  },
  {
   "cell_type": "code",
   "execution_count": 16,
   "id": "abe828d0",
   "metadata": {},
   "outputs": [
    {
     "name": "stdout",
     "output_type": "stream",
     "text": [
      "The Unique values are: [2 3 5 1 4]\n"
     ]
    }
   ],
   "source": [
    "print(\"The Unique values are:\",data.EmpJobLevel.unique())"
   ]
  },
  {
   "cell_type": "code",
   "execution_count": 17,
   "id": "cfde7193",
   "metadata": {
    "scrolled": false
   },
   "outputs": [
    {
     "data": {
      "image/png": "[encoded data removed]",
      "text/plain": [
       "<Figure size 720x360 with 1 Axes>"
      ]
     },
     "metadata": {
      "needs_background": "light"
     },
     "output_type": "display_data"
    }
   ],
   "source": [
    "plt.figure(figsize=(10,5))\n",
    "ax = sns.countplot(x = data.EmpJobLevel)\n",
    "plt.show()"
   ]
  },
  {
   "cell_type": "markdown",
   "id": "a4104599",
   "metadata": {},
   "source": [
    "## NumCompaniesWorked"
   ]
  },
  {
   "cell_type": "code",
   "execution_count": 18,
   "id": "b72c1e8b",
   "metadata": {},
   "outputs": [
    {
     "name": "stdout",
     "output_type": "stream",
     "text": [
      "The total number of values in column: 10\n"
     ]
    }
   ],
   "source": [
    "print(\"The total number of values in column:\",data.NumCompaniesWorked.nunique())"
   ]
  },
  {
   "cell_type": "code",
   "execution_count": 19,
   "id": "209e3356",
   "metadata": {
    "scrolled": false
   },
   "outputs": [
    {
     "data": {
      "text/plain": [
       "<AxesSubplot:xlabel='NumCompaniesWorked', ylabel='count'>"
      ]
     },
     "execution_count": 19,
     "metadata": {},
     "output_type": "execute_result"
    },
    {
     "data": {
      "image/png": "[encoded data removed]",
      "text/plain": [
       "<Figure size 432x288 with 1 Axes>"
      ]
     },
     "metadata": {
      "needs_background": "light"
     },
     "output_type": "display_data"
    }
   ],
   "source": [
    "sns.countplot(data.NumCompaniesWorked)"
   ]
  },
  {
   "cell_type": "markdown",
   "id": "b13d0034",
   "metadata": {},
   "source": [
    "## EmpLastSalaryHikePercent"
   ]
  },
  {
   "cell_type": "code",
   "execution_count": 20,
   "id": "7b87f316",
   "metadata": {},
   "outputs": [
    {
     "name": "stdout",
     "output_type": "stream",
     "text": [
      "Minimum: 11 \n",
      " Maximum: 25\n"
     ]
    }
   ],
   "source": [
    "print(\"Minimum:\",data.EmpLastSalaryHikePercent.min(),\"\\n Maximum:\", data.EmpLastSalaryHikePercent.max())"
   ]
  },
  {
   "cell_type": "code",
   "execution_count": 21,
   "id": "702c84ad",
   "metadata": {},
   "outputs": [
    {
     "name": "stdout",
     "output_type": "stream",
     "text": [
      "The Unique values are: [12 21 15 14 13 23 11 20 19 17 18 22 16 24 25]\n"
     ]
    }
   ],
   "source": [
    "print(\"The Unique values are:\",data.EmpLastSalaryHikePercent.unique())"
   ]
  },
  {
   "cell_type": "code",
   "execution_count": 22,
   "id": "add61fb2",
   "metadata": {},
   "outputs": [
    {
     "name": "stdout",
     "output_type": "stream",
     "text": [
      "Most of the employee got hike of: 14 %\n"
     ]
    }
   ],
   "source": [
    "print(\"Most of the employee got hike of:\", int(data.EmpLastSalaryHikePercent.mode()),\"%\")"
   ]
  },
  {
   "cell_type": "code",
   "execution_count": 23,
   "id": "b0befa40",
   "metadata": {
    "scrolled": false
   },
   "outputs": [
    {
     "data": {
      "image/png": "[encoded data removed]",
      "text/plain": [
       "<Figure size 720x360 with 1 Axes>"
      ]
     },
     "metadata": {
      "needs_background": "light"
     },
     "output_type": "display_data"
    }
   ],
   "source": [
    "fig, ax = plt.subplots(figsize=(10, 5))\n",
    "sns.countplot(data.EmpLastSalaryHikePercent)\n",
    "plt.show()"
   ]
  },
  {
   "cell_type": "markdown",
   "id": "9875577a",
   "metadata": {},
   "source": [
    "## TotalWorkExperienceInYears"
   ]
  },
  {
   "cell_type": "code",
   "execution_count": 24,
   "id": "62f89ca3",
   "metadata": {},
   "outputs": [
    {
     "name": "stdout",
     "output_type": "stream",
     "text": [
      "Maximum : 40\n"
     ]
    }
   ],
   "source": [
    "print(\"Maximum :\",data.TotalWorkExperienceInYears.max())"
   ]
  },
  {
   "cell_type": "code",
   "execution_count": 25,
   "id": "f28587c4",
   "metadata": {},
   "outputs": [
    {
     "name": "stdout",
     "output_type": "stream",
     "text": [
      "The Unique values are: [10 20 23  9  4 28  1  7 12 30  5  2 19 16 34  6  8 11 17  3 14 26 13 22\n",
      "  0 29 18 35 33 31 24 15 32 21 27 25 36 37 38 40]\n"
     ]
    }
   ],
   "source": [
    "print(\"The Unique values are:\",data.TotalWorkExperienceInYears.unique())"
   ]
  },
  {
   "cell_type": "code",
   "execution_count": 26,
   "id": "1d73c4d4",
   "metadata": {
    "scrolled": true
   },
   "outputs": [
    {
     "data": {
      "image/png": "[encoded data removed]",
      "text/plain": [
       "<Figure size 720x360 with 1 Axes>"
      ]
     },
     "metadata": {
      "needs_background": "light"
     },
     "output_type": "display_data"
    }
   ],
   "source": [
    "fig, ax = plt.subplots(figsize=(10, 5))\n",
    "sns.countplot(data.TotalWorkExperienceInYears)\n",
    "plt.show()"
   ]
  },
  {
   "cell_type": "markdown",
   "id": "f93401d0",
   "metadata": {},
   "source": [
    "## TrainingTimesLastYear"
   ]
  },
  {
   "cell_type": "code",
   "execution_count": 27,
   "id": "693babe4",
   "metadata": {
    "scrolled": true
   },
   "outputs": [
    {
     "data": {
      "text/plain": [
       "<AxesSubplot:xlabel='TrainingTimesLastYear', ylabel='Count'>"
      ]
     },
     "execution_count": 27,
     "metadata": {},
     "output_type": "execute_result"
    },
    {
     "data": {
      "image/png": "[encoded data removed]",
      "text/plain": [
       "<Figure size 432x288 with 1 Axes>"
      ]
     },
     "metadata": {
      "needs_background": "light"
     },
     "output_type": "display_data"
    }
   ],
   "source": [
    "sns.histplot(data.TrainingTimesLastYear)"
   ]
  },
  {
   "cell_type": "code",
   "execution_count": 28,
   "id": "fe6ae865",
   "metadata": {},
   "outputs": [
    {
     "data": {
      "text/plain": [
       "<AxesSubplot:xlabel='TrainingTimesLastYear', ylabel='count'>"
      ]
     },
     "execution_count": 28,
     "metadata": {},
     "output_type": "execute_result"
    },
    {
     "data": {
      "image/png": "[encoded data removed]",
      "text/plain": [
       "<Figure size 432x288 with 1 Axes>"
      ]
     },
     "metadata": {
      "needs_background": "light"
     },
     "output_type": "display_data"
    }
   ],
   "source": [
    "sns.countplot(x = data.TrainingTimesLastYear, hue = data.PerformanceRating)"
   ]
  },
  {
   "cell_type": "markdown",
   "id": "6d6e96cf",
   "metadata": {},
   "source": [
    "## ExperienceYearsAtThisCompany"
   ]
  },
  {
   "cell_type": "code",
   "execution_count": 29,
   "id": "29f13cb8",
   "metadata": {
    "scrolled": true
   },
   "outputs": [
    {
     "data": {
      "text/plain": [
       "<AxesSubplot:xlabel='ExperienceYearsAtThisCompany', ylabel='Count'>"
      ]
     },
     "execution_count": 29,
     "metadata": {},
     "output_type": "execute_result"
    },
    {
     "data": {
      "image/png": "[encoded data removed]",
      "text/plain": [
       "<Figure size 432x288 with 1 Axes>"
      ]
     },
     "metadata": {
      "needs_background": "light"
     },
     "output_type": "display_data"
    }
   ],
   "source": [
    "sns.histplot(data.ExperienceYearsAtThisCompany)"
   ]
  },
  {
   "cell_type": "markdown",
   "id": "e39154ec",
   "metadata": {},
   "source": [
    "## ExperienceYearsInCurrentRole"
   ]
  },
  {
   "cell_type": "code",
   "execution_count": 30,
   "id": "66dd1cfb",
   "metadata": {
    "scrolled": true
   },
   "outputs": [
    {
     "data": {
      "text/plain": [
       "<AxesSubplot:xlabel='ExperienceYearsInCurrentRole', ylabel='Count'>"
      ]
     },
     "execution_count": 30,
     "metadata": {},
     "output_type": "execute_result"
    },
    {
     "data": {
      "image/png": "[encoded data removed]",
      "text/plain": [
       "<Figure size 432x288 with 1 Axes>"
      ]
     },
     "metadata": {
      "needs_background": "light"
     },
     "output_type": "display_data"
    }
   ],
   "source": [
    "sns.histplot(data.ExperienceYearsInCurrentRole)"
   ]
  },
  {
   "cell_type": "markdown",
   "id": "8666c015",
   "metadata": {},
   "source": [
    "## YearsSinceLastPromotion"
   ]
  },
  {
   "cell_type": "code",
   "execution_count": 31,
   "id": "cf8b375e",
   "metadata": {
    "scrolled": true
   },
   "outputs": [
    {
     "data": {
      "text/plain": [
       "<AxesSubplot:xlabel='YearsSinceLastPromotion', ylabel='Count'>"
      ]
     },
     "execution_count": 31,
     "metadata": {},
     "output_type": "execute_result"
    },
    {
     "data": {
      "image/png": "[encoded data removed]",
      "text/plain": [
       "<Figure size 432x288 with 1 Axes>"
      ]
     },
     "metadata": {
      "needs_background": "light"
     },
     "output_type": "display_data"
    }
   ],
   "source": [
    "sns.histplot(data.YearsSinceLastPromotion)"
   ]
  },
  {
   "cell_type": "markdown",
   "id": "9b68ccc2",
   "metadata": {},
   "source": [
    "## YearsWithCurrManager"
   ]
  },
  {
   "cell_type": "code",
   "execution_count": 32,
   "id": "83f214df",
   "metadata": {},
   "outputs": [
    {
     "name": "stdout",
     "output_type": "stream",
     "text": [
      "The total number of values in column: 18\n"
     ]
    }
   ],
   "source": [
    "print(\"The total number of values in column:\",data.YearsWithCurrManager.nunique())"
   ]
  },
  {
   "cell_type": "code",
   "execution_count": 33,
   "id": "d5652fae",
   "metadata": {},
   "outputs": [
    {
     "name": "stdout",
     "output_type": "stream",
     "text": [
      "The Unique values are: [ 8  7 12  6  2  5  0  4 13  3  1 16  9 17 11 10 14 15]\n"
     ]
    }
   ],
   "source": [
    "print(\"The Unique values are:\",data.YearsWithCurrManager.unique())"
   ]
  },
  {
   "cell_type": "code",
   "execution_count": 34,
   "id": "5cca6762",
   "metadata": {
    "scrolled": true
   },
   "outputs": [
    {
     "data": {
      "text/plain": [
       "<AxesSubplot:xlabel='YearsWithCurrManager', ylabel='Count'>"
      ]
     },
     "execution_count": 34,
     "metadata": {},
     "output_type": "execute_result"
    },
    {
     "data": {
      "image/png": "[encoded data removed]",
      "text/plain": [
       "<Figure size 432x288 with 1 Axes>"
      ]
     },
     "metadata": {
      "needs_background": "light"
     },
     "output_type": "display_data"
    }
   ],
   "source": [
    "sns.histplot(data.YearsWithCurrManager)"
   ]
  },
  {
   "cell_type": "markdown",
   "id": "b0282a6f",
   "metadata": {},
   "source": [
    "## Categorical Features"
   ]
  },
  {
   "cell_type": "markdown",
   "id": "fcc6207f",
   "metadata": {},
   "source": [
    "## Gender"
   ]
  },
  {
   "cell_type": "code",
   "execution_count": 35,
   "id": "9a3d524f",
   "metadata": {},
   "outputs": [
    {
     "name": "stdout",
     "output_type": "stream",
     "text": [
      "The total number of values in column: 2\n"
     ]
    }
   ],
   "source": [
    "print(\"The total number of values in column:\",data.Gender.nunique())"
   ]
  },
  {
   "cell_type": "code",
   "execution_count": 36,
   "id": "e38dd773",
   "metadata": {},
   "outputs": [
    {
     "name": "stdout",
     "output_type": "stream",
     "text": [
      "The Unique values are: ['Male' 'Female']\n"
     ]
    }
   ],
   "source": [
    "print(\"The Unique values are:\",data.Gender.unique())"
   ]
  },
  {
   "cell_type": "code",
   "execution_count": 37,
   "id": "96cc34f1",
   "metadata": {},
   "outputs": [
    {
     "data": {
      "text/plain": [
       "<AxesSubplot:title={'center':'Gender'}, ylabel='None'>"
      ]
     },
     "execution_count": 37,
     "metadata": {},
     "output_type": "execute_result"
    },
    {
     "data": {
      "image/png": "[encoded data removed]",
      "text/plain": [
       "<Figure size 432x288 with 1 Axes>"
      ]
     },
     "metadata": {},
     "output_type": "display_data"
    }
   ],
   "source": [
    "data.groupby('Gender').size().plot(kind='pie', labels=['Female','Male'], title = 'Gender', autopct='%1.1f%%')"
   ]
  },
  {
   "cell_type": "markdown",
   "id": "3a3c33b0",
   "metadata": {},
   "source": [
    "## EducationBackground"
   ]
  },
  {
   "cell_type": "code",
   "execution_count": 38,
   "id": "5d5a517e",
   "metadata": {},
   "outputs": [
    {
     "name": "stdout",
     "output_type": "stream",
     "text": [
      "The total number of values in column: 6\n"
     ]
    }
   ],
   "source": [
    "print(\"The total number of values in column:\",data.EducationBackground.nunique())"
   ]
  },
  {
   "cell_type": "code",
   "execution_count": 39,
   "id": "3a1e145e",
   "metadata": {},
   "outputs": [
    {
     "name": "stdout",
     "output_type": "stream",
     "text": [
      "The Unique values are: ['Marketing' 'Life Sciences' 'Human Resources' 'Medical' 'Other'\n",
      " 'Technical Degree']\n"
     ]
    }
   ],
   "source": [
    "print(\"The Unique values are:\",data.EducationBackground.unique())"
   ]
  },
  {
   "cell_type": "code",
   "execution_count": 40,
   "id": "33e4c5ae",
   "metadata": {},
   "outputs": [
    {
     "data": {
      "image/png": "[encoded data removed]",
      "text/plain": [
       "<Figure size 720x360 with 1 Axes>"
      ]
     },
     "metadata": {
      "needs_background": "light"
     },
     "output_type": "display_data"
    }
   ],
   "source": [
    "plt.figure(figsize=(10,5))\n",
    "sns.countplot(x = data.EducationBackground)\n",
    "plt.show()"
   ]
  },
  {
   "cell_type": "markdown",
   "id": "b75ffb3d",
   "metadata": {},
   "source": [
    "## MaritalStatus"
   ]
  },
  {
   "cell_type": "code",
   "execution_count": 41,
   "id": "85680277",
   "metadata": {},
   "outputs": [
    {
     "name": "stdout",
     "output_type": "stream",
     "text": [
      "The total number of values in column: 3\n"
     ]
    }
   ],
   "source": [
    "print(\"The total number of values in column:\",data.MaritalStatus.nunique())"
   ]
  },
  {
   "cell_type": "code",
   "execution_count": 42,
   "id": "a931ef84",
   "metadata": {},
   "outputs": [
    {
     "name": "stdout",
     "output_type": "stream",
     "text": [
      "The Unique values are: ['Single' 'Married' 'Divorced']\n"
     ]
    }
   ],
   "source": [
    "print(\"The Unique values are:\",data.MaritalStatus.unique())"
   ]
  },
  {
   "cell_type": "code",
   "execution_count": 43,
   "id": "a7c65e52",
   "metadata": {},
   "outputs": [
    {
     "data": {
      "image/png": "[encoded data removed]",
      "text/plain": [
       "<Figure size 720x360 with 1 Axes>"
      ]
     },
     "metadata": {
      "needs_background": "light"
     },
     "output_type": "display_data"
    }
   ],
   "source": [
    "plt.figure(figsize=(10,5))\n",
    "sns.countplot(x = data.MaritalStatus)\n",
    "plt.show()"
   ]
  },
  {
   "cell_type": "markdown",
   "id": "5bf3e54c",
   "metadata": {},
   "source": [
    "## EmpDepartment"
   ]
  },
  {
   "cell_type": "code",
   "execution_count": 44,
   "id": "333da521",
   "metadata": {},
   "outputs": [
    {
     "name": "stdout",
     "output_type": "stream",
     "text": [
      "The total number of values in column: 6\n"
     ]
    }
   ],
   "source": [
    "print(\"The total number of values in column:\",data.EmpDepartment.nunique())"
   ]
  },
  {
   "cell_type": "code",
   "execution_count": 45,
   "id": "c1e42f33",
   "metadata": {},
   "outputs": [
    {
     "name": "stdout",
     "output_type": "stream",
     "text": [
      "The Unique values are: ['Sales' 'Human Resources' 'Development' 'Data Science'\n",
      " 'Research & Development' 'Finance']\n"
     ]
    }
   ],
   "source": [
    "print(\"The Unique values are:\",data.EmpDepartment.unique())"
   ]
  },
  {
   "cell_type": "code",
   "execution_count": 46,
   "id": "2a3ce1f2",
   "metadata": {},
   "outputs": [
    {
     "data": {
      "image/png": "[encoded data removed]",
      "text/plain": [
       "<Figure size 720x360 with 1 Axes>"
      ]
     },
     "metadata": {
      "needs_background": "light"
     },
     "output_type": "display_data"
    }
   ],
   "source": [
    "# Department wise performances\n",
    "plt.figure(figsize=(10,5))\n",
    "sns.countplot(x = data.EmpDepartment)\n",
    "plt.show()"
   ]
  },
  {
   "cell_type": "code",
   "execution_count": 47,
   "id": "b3e3a7f8",
   "metadata": {},
   "outputs": [
    {
     "data": {
      "image/png": "[encoded data removed]",
      "text/plain": [
       "<Figure size 864x360 with 1 Axes>"
      ]
     },
     "metadata": {
      "needs_background": "light"
     },
     "output_type": "display_data"
    }
   ],
   "source": [
    "plt.figure(figsize=(12, 5))\n",
    "sns.countplot(x='EmpDepartment', hue='PerformanceRating', data = data)\n",
    "plt.title('Department-wise Performance')\n",
    "plt.xlabel('Department')\n",
    "plt.ylabel('Count')\n",
    "plt.legend(title='Performance Rating')\n",
    "plt.show()"
   ]
  },
  {
   "cell_type": "markdown",
   "id": "bdd235a7",
   "metadata": {},
   "source": [
    "## EmpJobRole"
   ]
  },
  {
   "cell_type": "code",
   "execution_count": 48,
   "id": "3d496bdb",
   "metadata": {},
   "outputs": [
    {
     "name": "stdout",
     "output_type": "stream",
     "text": [
      "The total number of values in column: 19\n"
     ]
    }
   ],
   "source": [
    "print(\"The total number of values in column:\",data.EmpJobRole.nunique())"
   ]
  },
  {
   "cell_type": "code",
   "execution_count": 49,
   "id": "b0a9b950",
   "metadata": {},
   "outputs": [
    {
     "name": "stdout",
     "output_type": "stream",
     "text": [
      "The Unique values are: ['Sales Executive' 'Manager' 'Developer' 'Sales Representative'\n",
      " 'Human Resources' 'Senior Developer' 'Data Scientist'\n",
      " 'Senior Manager R&D' 'Laboratory Technician' 'Manufacturing Director'\n",
      " 'Research Scientist' 'Healthcare Representative' 'Research Director'\n",
      " 'Manager R&D' 'Finance Manager' 'Technical Architect' 'Business Analyst'\n",
      " 'Technical Lead' 'Delivery Manager']\n"
     ]
    }
   ],
   "source": [
    "print(\"The Unique values are:\",data.EmpJobRole.unique())"
   ]
  },
  {
   "cell_type": "code",
   "execution_count": 50,
   "id": "3c2640dc",
   "metadata": {},
   "outputs": [
    {
     "data": {
      "image/png": "[encoded data removed]",
      "text/plain": [
       "<Figure size 2520x360 with 1 Axes>"
      ]
     },
     "metadata": {
      "needs_background": "light"
     },
     "output_type": "display_data"
    }
   ],
   "source": [
    "plt.figure(figsize=(35,5))\n",
    "sns.countplot(x = data.EmpJobRole, order=data['EmpJobRole'].value_counts().index)\n",
    "plt.show()"
   ]
  },
  {
   "cell_type": "markdown",
   "id": "c4a42d55",
   "metadata": {},
   "source": [
    "## BusinessTravelFrequency"
   ]
  },
  {
   "cell_type": "code",
   "execution_count": 51,
   "id": "7870064e",
   "metadata": {},
   "outputs": [
    {
     "name": "stdout",
     "output_type": "stream",
     "text": [
      "The total number of values in column: 3\n"
     ]
    }
   ],
   "source": [
    "print(\"The total number of values in column:\",data.BusinessTravelFrequency.nunique())"
   ]
  },
  {
   "cell_type": "code",
   "execution_count": 52,
   "id": "c02527cb",
   "metadata": {},
   "outputs": [
    {
     "name": "stdout",
     "output_type": "stream",
     "text": [
      "The Unique values are: ['Travel_Rarely' 'Travel_Frequently' 'Non-Travel']\n"
     ]
    }
   ],
   "source": [
    "print(\"The Unique values are:\",data.BusinessTravelFrequency.unique())"
   ]
  },
  {
   "cell_type": "code",
   "execution_count": 53,
   "id": "7ae5754c",
   "metadata": {
    "scrolled": true
   },
   "outputs": [
    {
     "data": {
      "image/png": "[encoded data removed]",
      "text/plain": [
       "<Figure size 720x360 with 1 Axes>"
      ]
     },
     "metadata": {
      "needs_background": "light"
     },
     "output_type": "display_data"
    }
   ],
   "source": [
    "plt.figure(figsize=(10,5))\n",
    "sns.countplot(x = data.BusinessTravelFrequency)\n",
    "plt.show()"
   ]
  },
  {
   "cell_type": "markdown",
   "id": "23b31ed2",
   "metadata": {},
   "source": [
    "## EmpEducationLevel"
   ]
  },
  {
   "cell_type": "code",
   "execution_count": 54,
   "id": "bd922ab5",
   "metadata": {},
   "outputs": [
    {
     "name": "stdout",
     "output_type": "stream",
     "text": [
      "The total number of values in column: 5\n"
     ]
    }
   ],
   "source": [
    "print(\"The total number of values in column:\",data.EmpEducationLevel.nunique())"
   ]
  },
  {
   "cell_type": "code",
   "execution_count": 55,
   "id": "ec2df55a",
   "metadata": {},
   "outputs": [
    {
     "name": "stdout",
     "output_type": "stream",
     "text": [
      "The Unique values are: ['Bachelor' 'Master' 'College' 'Doctor' 'Below College']\n"
     ]
    }
   ],
   "source": [
    "print(\"The Unique values are:\",data.EmpEducationLevel.unique())"
   ]
  },
  {
   "cell_type": "code",
   "execution_count": 56,
   "id": "764b66a3",
   "metadata": {},
   "outputs": [
    {
     "data": {
      "image/png": "[encoded data removed]",
      "text/plain": [
       "<Figure size 720x360 with 1 Axes>"
      ]
     },
     "metadata": {
      "needs_background": "light"
     },
     "output_type": "display_data"
    }
   ],
   "source": [
    "plt.figure(figsize=(10,5))\n",
    "ax = sns.countplot(x = data.EmpEducationLevel)\n",
    "plt.show()"
   ]
  },
  {
   "cell_type": "markdown",
   "id": "1a2798df",
   "metadata": {},
   "source": [
    "## EmpEnvironmentSatisfaction"
   ]
  },
  {
   "cell_type": "code",
   "execution_count": 57,
   "id": "fb8a0081",
   "metadata": {},
   "outputs": [
    {
     "name": "stdout",
     "output_type": "stream",
     "text": [
      "The total number of values in column: 4\n"
     ]
    }
   ],
   "source": [
    "print(\"The total number of values in column:\",data.EmpEnvironmentSatisfaction.nunique())"
   ]
  },
  {
   "cell_type": "code",
   "execution_count": 58,
   "id": "8c2233aa",
   "metadata": {},
   "outputs": [
    {
     "name": "stdout",
     "output_type": "stream",
     "text": [
      "The Unique values are: ['Very High' 'Medium' 'Low' 'High']\n"
     ]
    }
   ],
   "source": [
    "print(\"The Unique values are:\",data.EmpEnvironmentSatisfaction.unique())"
   ]
  },
  {
   "cell_type": "code",
   "execution_count": 59,
   "id": "87751b12",
   "metadata": {},
   "outputs": [
    {
     "data": {
      "image/png": "[encoded data removed]",
      "text/plain": [
       "<Figure size 720x360 with 1 Axes>"
      ]
     },
     "metadata": {
      "needs_background": "light"
     },
     "output_type": "display_data"
    }
   ],
   "source": [
    "plt.figure(figsize=(10,5))\n",
    "ax = sns.countplot(x = data.EmpEnvironmentSatisfaction)\n",
    "plt.show()"
   ]
  },
  {
   "cell_type": "markdown",
   "id": "c3f9d042",
   "metadata": {},
   "source": [
    "## EmpJobInvolvement"
   ]
  },
  {
   "cell_type": "code",
   "execution_count": 60,
   "id": "769a12d4",
   "metadata": {},
   "outputs": [
    {
     "name": "stdout",
     "output_type": "stream",
     "text": [
      "The total number of values in column: 4\n"
     ]
    }
   ],
   "source": [
    "print(\"The total number of values in column:\",data.EmpJobInvolvement.nunique())"
   ]
  },
  {
   "cell_type": "code",
   "execution_count": 61,
   "id": "4a53e466",
   "metadata": {},
   "outputs": [
    {
     "name": "stdout",
     "output_type": "stream",
     "text": [
      "The Unique values are: ['High' 'Medium' 'Low' 'Very High']\n"
     ]
    }
   ],
   "source": [
    "print(\"The Unique values are:\",data.EmpJobInvolvement.unique())"
   ]
  },
  {
   "cell_type": "code",
   "execution_count": 62,
   "id": "e3406245",
   "metadata": {},
   "outputs": [
    {
     "data": {
      "image/png": "[encoded data removed]",
      "text/plain": [
       "<Figure size 720x360 with 1 Axes>"
      ]
     },
     "metadata": {
      "needs_background": "light"
     },
     "output_type": "display_data"
    }
   ],
   "source": [
    "plt.figure(figsize=(10,5))\n",
    "ax = sns.countplot(x = data.EmpJobInvolvement)\n",
    "plt.show()"
   ]
  },
  {
   "cell_type": "markdown",
   "id": "4c0c12d7",
   "metadata": {},
   "source": [
    "## EmpJobSatisfaction"
   ]
  },
  {
   "cell_type": "code",
   "execution_count": 63,
   "id": "d805557f",
   "metadata": {},
   "outputs": [
    {
     "name": "stdout",
     "output_type": "stream",
     "text": [
      "The total number of values in column: 4\n"
     ]
    }
   ],
   "source": [
    "print(\"The total number of values in column:\",data.EmpJobSatisfaction.nunique())"
   ]
  },
  {
   "cell_type": "code",
   "execution_count": 64,
   "id": "a2bf0738",
   "metadata": {},
   "outputs": [
    {
     "name": "stdout",
     "output_type": "stream",
     "text": [
      "The Unique values are: ['Very High' 'Low' 'Medium' 'High']\n"
     ]
    }
   ],
   "source": [
    "print(\"The Unique values are:\",data.EmpJobSatisfaction.unique())"
   ]
  },
  {
   "cell_type": "code",
   "execution_count": 65,
   "id": "c99c300f",
   "metadata": {},
   "outputs": [
    {
     "data": {
      "image/png": "[encoded data removed]",
      "text/plain": [
       "<Figure size 720x360 with 1 Axes>"
      ]
     },
     "metadata": {
      "needs_background": "light"
     },
     "output_type": "display_data"
    }
   ],
   "source": [
    "plt.figure(figsize=(10,5))\n",
    "ax = sns.countplot(x = data.EmpJobSatisfaction)\n",
    "plt.show()"
   ]
  },
  {
   "cell_type": "markdown",
   "id": "0a68506a",
   "metadata": {},
   "source": [
    "### Over Time"
   ]
  },
  {
   "cell_type": "code",
   "execution_count": 66,
   "id": "2bc468c2",
   "metadata": {},
   "outputs": [
    {
     "name": "stdout",
     "output_type": "stream",
     "text": [
      "The total number of values in column: 2\n"
     ]
    }
   ],
   "source": [
    "print(\"The total number of values in column:\",data.OverTime.nunique())"
   ]
  },
  {
   "cell_type": "code",
   "execution_count": 67,
   "id": "af5e9c31",
   "metadata": {},
   "outputs": [
    {
     "name": "stdout",
     "output_type": "stream",
     "text": [
      "The Unique values are: ['No' 'Yes']\n"
     ]
    }
   ],
   "source": [
    "print(\"The Unique values are:\",data.OverTime.unique())"
   ]
  },
  {
   "cell_type": "code",
   "execution_count": 68,
   "id": "bc961f6d",
   "metadata": {},
   "outputs": [
    {
     "data": {
      "text/plain": [
       "<AxesSubplot:title={'center':'Over Time'}, ylabel='None'>"
      ]
     },
     "execution_count": 68,
     "metadata": {},
     "output_type": "execute_result"
    },
    {
     "data": {
      "image/png": "[encoded data removed]",
      "text/plain": [
       "<Figure size 432x288 with 1 Axes>"
      ]
     },
     "metadata": {},
     "output_type": "display_data"
    }
   ],
   "source": [
    "data.groupby('OverTime').size().plot(kind='pie', labels=['No','Yes'], title = 'Over Time', autopct='%1.1f%%')"
   ]
  },
  {
   "cell_type": "markdown",
   "id": "bcbe00b7",
   "metadata": {},
   "source": [
    "## EmpRelationshipSatisfaction"
   ]
  },
  {
   "cell_type": "code",
   "execution_count": 69,
   "id": "91b4278e",
   "metadata": {},
   "outputs": [
    {
     "name": "stdout",
     "output_type": "stream",
     "text": [
      "The total number of values in column: 4\n"
     ]
    }
   ],
   "source": [
    "print(\"The total number of values in column:\",data.EmpRelationshipSatisfaction.nunique())"
   ]
  },
  {
   "cell_type": "code",
   "execution_count": 70,
   "id": "2617045d",
   "metadata": {},
   "outputs": [
    {
     "name": "stdout",
     "output_type": "stream",
     "text": [
      "The Unique values are: ['Outstanding' 'Excellent' 'Good' 'Low']\n"
     ]
    }
   ],
   "source": [
    "print(\"The Unique values are:\",data.EmpRelationshipSatisfaction.unique())"
   ]
  },
  {
   "cell_type": "code",
   "execution_count": 71,
   "id": "8ebc0d73",
   "metadata": {},
   "outputs": [
    {
     "data": {
      "image/png": "[encoded data removed]",
      "text/plain": [
       "<Figure size 720x360 with 1 Axes>"
      ]
     },
     "metadata": {
      "needs_background": "light"
     },
     "output_type": "display_data"
    }
   ],
   "source": [
    "plt.figure(figsize=(10,5))\n",
    "ax = sns.countplot(x = data.EmpRelationshipSatisfaction)\n",
    "plt.show()"
   ]
  },
  {
   "cell_type": "markdown",
   "id": "6e921eb0",
   "metadata": {},
   "source": [
    "## EmpWorkLifeBalance"
   ]
  },
  {
   "cell_type": "code",
   "execution_count": 72,
   "id": "624b4044",
   "metadata": {},
   "outputs": [
    {
     "name": "stdout",
     "output_type": "stream",
     "text": [
      "The total number of values in column: 4\n"
     ]
    }
   ],
   "source": [
    "print(\"The total number of values in column:\",data.EmpWorkLifeBalance.nunique())"
   ]
  },
  {
   "cell_type": "code",
   "execution_count": 73,
   "id": "26b4423f",
   "metadata": {},
   "outputs": [
    {
     "name": "stdout",
     "output_type": "stream",
     "text": [
      "The Unique values are: ['Good' 'Excellent' 'Outstanding' 'Low']\n"
     ]
    }
   ],
   "source": [
    "print(\"The Unique values are:\",data.EmpWorkLifeBalance.unique())"
   ]
  },
  {
   "cell_type": "code",
   "execution_count": 74,
   "id": "d1d8a926",
   "metadata": {},
   "outputs": [
    {
     "data": {
      "text/plain": [
       "<AxesSubplot:title={'center':'Work Life Balance'}, ylabel='None'>"
      ]
     },
     "execution_count": 74,
     "metadata": {},
     "output_type": "execute_result"
    },
    {
     "data": {
      "image/png": "[encoded data removed]",
      "text/plain": [
       "<Figure size 432x288 with 1 Axes>"
      ]
     },
     "metadata": {},
     "output_type": "display_data"
    }
   ],
   "source": [
    "data.groupby('EmpWorkLifeBalance').size().plot(kind='pie', labels=['Excellent','Good','Low','Outstanding'], title = 'Work Life Balance', autopct='%1.1f%%')"
   ]
  },
  {
   "cell_type": "markdown",
   "id": "2cff7792",
   "metadata": {},
   "source": [
    "## Attrition"
   ]
  },
  {
   "cell_type": "code",
   "execution_count": 75,
   "id": "b8751835",
   "metadata": {},
   "outputs": [
    {
     "name": "stdout",
     "output_type": "stream",
     "text": [
      "The total number of values in column: 2\n"
     ]
    }
   ],
   "source": [
    "print(\"The total number of values in column:\",data.Attrition.nunique())"
   ]
  },
  {
   "cell_type": "code",
   "execution_count": 76,
   "id": "ce73fa36",
   "metadata": {},
   "outputs": [
    {
     "name": "stdout",
     "output_type": "stream",
     "text": [
      "The Unique values are: ['No' 'Yes']\n"
     ]
    }
   ],
   "source": [
    "print(\"The Unique values are:\",data.Attrition.unique())"
   ]
  },
  {
   "cell_type": "code",
   "execution_count": 77,
   "id": "3c308991",
   "metadata": {},
   "outputs": [
    {
     "data": {
      "text/plain": [
       "<AxesSubplot:title={'center':'Work Life Balance'}, ylabel='None'>"
      ]
     },
     "execution_count": 77,
     "metadata": {},
     "output_type": "execute_result"
    },
    {
     "data": {
      "image/png": "[encoded data removed]",
      "text/plain": [
       "<Figure size 432x288 with 1 Axes>"
      ]
     },
     "metadata": {},
     "output_type": "display_data"
    }
   ],
   "source": [
    "data.groupby('Attrition').size().plot(kind='pie', labels=['No','Yes'], title = 'Work Life Balance', autopct='%1.1f%%')"
   ]
  },
  {
   "cell_type": "code",
   "execution_count": 78,
   "id": "7234cce1",
   "metadata": {},
   "outputs": [
    {
     "data": {
      "text/plain": [
       "<AxesSubplot:xlabel='Attrition', ylabel='count'>"
      ]
     },
     "execution_count": 78,
     "metadata": {},
     "output_type": "execute_result"
    },
    {
     "data": {
      "image/png": "[encoded data removed]",
      "text/plain": [
       "<Figure size 432x288 with 1 Axes>"
      ]
     },
     "metadata": {
      "needs_background": "light"
     },
     "output_type": "display_data"
    }
   ],
   "source": [
    "sns.countplot(data.Attrition, hue = data.PerformanceRating)"
   ]
  },
  {
   "cell_type": "markdown",
   "id": "e95fc0da",
   "metadata": {},
   "source": [
    "## PerformanceRating"
   ]
  },
  {
   "cell_type": "code",
   "execution_count": 79,
   "id": "e29777da",
   "metadata": {},
   "outputs": [
    {
     "name": "stdout",
     "output_type": "stream",
     "text": [
      "The total number of values in column: 3\n"
     ]
    }
   ],
   "source": [
    "print(\"The total number of values in column:\",data.PerformanceRating.nunique())"
   ]
  },
  {
   "cell_type": "code",
   "execution_count": 80,
   "id": "00c22faa",
   "metadata": {},
   "outputs": [
    {
     "name": "stdout",
     "output_type": "stream",
     "text": [
      "The Unique values are: ['Excellent' 'Outstanding' 'Good']\n"
     ]
    }
   ],
   "source": [
    "print(\"The Unique values are:\",data.PerformanceRating.unique())"
   ]
  },
  {
   "cell_type": "code",
   "execution_count": 81,
   "id": "7b8ee593",
   "metadata": {},
   "outputs": [
    {
     "data": {
      "text/plain": [
       "<AxesSubplot:xlabel='PerformanceRating', ylabel='count'>"
      ]
     },
     "execution_count": 81,
     "metadata": {},
     "output_type": "execute_result"
    },
    {
     "data": {
      "image/png": "[encoded data removed]",
      "text/plain": [
       "<Figure size 432x288 with 1 Axes>"
      ]
     },
     "metadata": {
      "needs_background": "light"
     },
     "output_type": "display_data"
    }
   ],
   "source": [
    "sns.countplot(data.PerformanceRating)"
   ]
  },
  {
   "cell_type": "code",
   "execution_count": 82,
   "id": "1152fd52",
   "metadata": {},
   "outputs": [],
   "source": [
    "data = data.drop(['EmpNumber'],axis=1)"
   ]
  },
  {
   "cell_type": "code",
   "execution_count": 83,
   "id": "c310b54b",
   "metadata": {},
   "outputs": [],
   "source": [
    "# Giving label for catogorical columns\n",
    "label_encoder = LabelEncoder()\n",
    "\n",
    "for i in data:\n",
    "    data[i]= label_encoder.fit_transform(data[i])"
   ]
  },
  {
   "cell_type": "code",
   "execution_count": 84,
   "id": "0ab2173b",
   "metadata": {},
   "outputs": [],
   "source": [
    "data_corr = data.corr()"
   ]
  },
  {
   "cell_type": "code",
   "execution_count": 85,
   "id": "0a38007f",
   "metadata": {},
   "outputs": [
    {
     "data": {
      "text/html": [
       "<div>\n",
       "<style scoped>\n",
       "    .dataframe tbody tr th:only-of-type {\n",
       "        vertical-align: middle;\n",
       "    }\n",
       "\n",
       "    .dataframe tbody tr th {\n",
       "        vertical-align: top;\n",
       "    }\n",
       "\n",
       "    .dataframe thead th {\n",
       "        text-align: right;\n",
       "    }\n",
       "</style>\n",
       "<table border=\"1\" class=\"dataframe\">\n",
       "  <thead>\n",
       "    <tr style=\"text-align: right;\">\n",
       "      <th></th>\n",
       "      <th>Age</th>\n",
       "      <th>Gender</th>\n",
       "      <th>EducationBackground</th>\n",
       "      <th>MaritalStatus</th>\n",
       "      <th>EmpDepartment</th>\n",
       "      <th>EmpJobRole</th>\n",
       "      <th>BusinessTravelFrequency</th>\n",
       "      <th>DistanceFromHome</th>\n",
       "      <th>EmpEducationLevel</th>\n",
       "      <th>EmpEnvironmentSatisfaction</th>\n",
       "      <th>...</th>\n",
       "      <th>EmpRelationshipSatisfaction</th>\n",
       "      <th>TotalWorkExperienceInYears</th>\n",
       "      <th>TrainingTimesLastYear</th>\n",
       "      <th>EmpWorkLifeBalance</th>\n",
       "      <th>ExperienceYearsAtThisCompany</th>\n",
       "      <th>ExperienceYearsInCurrentRole</th>\n",
       "      <th>YearsSinceLastPromotion</th>\n",
       "      <th>YearsWithCurrManager</th>\n",
       "      <th>Attrition</th>\n",
       "      <th>PerformanceRating</th>\n",
       "    </tr>\n",
       "  </thead>\n",
       "  <tbody>\n",
       "    <tr>\n",
       "      <th>0</th>\n",
       "      <td>14</td>\n",
       "      <td>1</td>\n",
       "      <td>2</td>\n",
       "      <td>2</td>\n",
       "      <td>5</td>\n",
       "      <td>13</td>\n",
       "      <td>2</td>\n",
       "      <td>9</td>\n",
       "      <td>0</td>\n",
       "      <td>3</td>\n",
       "      <td>...</td>\n",
       "      <td>3</td>\n",
       "      <td>10</td>\n",
       "      <td>2</td>\n",
       "      <td>1</td>\n",
       "      <td>10</td>\n",
       "      <td>7</td>\n",
       "      <td>0</td>\n",
       "      <td>8</td>\n",
       "      <td>0</td>\n",
       "      <td>0</td>\n",
       "    </tr>\n",
       "    <tr>\n",
       "      <th>1</th>\n",
       "      <td>29</td>\n",
       "      <td>1</td>\n",
       "      <td>2</td>\n",
       "      <td>2</td>\n",
       "      <td>5</td>\n",
       "      <td>13</td>\n",
       "      <td>2</td>\n",
       "      <td>13</td>\n",
       "      <td>4</td>\n",
       "      <td>3</td>\n",
       "      <td>...</td>\n",
       "      <td>3</td>\n",
       "      <td>20</td>\n",
       "      <td>2</td>\n",
       "      <td>0</td>\n",
       "      <td>7</td>\n",
       "      <td>7</td>\n",
       "      <td>1</td>\n",
       "      <td>7</td>\n",
       "      <td>0</td>\n",
       "      <td>0</td>\n",
       "    </tr>\n",
       "    <tr>\n",
       "      <th>2</th>\n",
       "      <td>22</td>\n",
       "      <td>1</td>\n",
       "      <td>1</td>\n",
       "      <td>1</td>\n",
       "      <td>5</td>\n",
       "      <td>13</td>\n",
       "      <td>1</td>\n",
       "      <td>4</td>\n",
       "      <td>4</td>\n",
       "      <td>3</td>\n",
       "      <td>...</td>\n",
       "      <td>0</td>\n",
       "      <td>20</td>\n",
       "      <td>2</td>\n",
       "      <td>0</td>\n",
       "      <td>18</td>\n",
       "      <td>13</td>\n",
       "      <td>1</td>\n",
       "      <td>12</td>\n",
       "      <td>0</td>\n",
       "      <td>2</td>\n",
       "    </tr>\n",
       "    <tr>\n",
       "      <th>3</th>\n",
       "      <td>23</td>\n",
       "      <td>1</td>\n",
       "      <td>0</td>\n",
       "      <td>0</td>\n",
       "      <td>3</td>\n",
       "      <td>8</td>\n",
       "      <td>2</td>\n",
       "      <td>9</td>\n",
       "      <td>4</td>\n",
       "      <td>2</td>\n",
       "      <td>...</td>\n",
       "      <td>1</td>\n",
       "      <td>23</td>\n",
       "      <td>2</td>\n",
       "      <td>1</td>\n",
       "      <td>21</td>\n",
       "      <td>6</td>\n",
       "      <td>12</td>\n",
       "      <td>6</td>\n",
       "      <td>0</td>\n",
       "      <td>0</td>\n",
       "    </tr>\n",
       "    <tr>\n",
       "      <th>4</th>\n",
       "      <td>42</td>\n",
       "      <td>1</td>\n",
       "      <td>2</td>\n",
       "      <td>2</td>\n",
       "      <td>5</td>\n",
       "      <td>13</td>\n",
       "      <td>2</td>\n",
       "      <td>15</td>\n",
       "      <td>4</td>\n",
       "      <td>1</td>\n",
       "      <td>...</td>\n",
       "      <td>3</td>\n",
       "      <td>10</td>\n",
       "      <td>1</td>\n",
       "      <td>0</td>\n",
       "      <td>2</td>\n",
       "      <td>2</td>\n",
       "      <td>2</td>\n",
       "      <td>2</td>\n",
       "      <td>0</td>\n",
       "      <td>0</td>\n",
       "    </tr>\n",
       "    <tr>\n",
       "      <th>...</th>\n",
       "      <td>...</td>\n",
       "      <td>...</td>\n",
       "      <td>...</td>\n",
       "      <td>...</td>\n",
       "      <td>...</td>\n",
       "      <td>...</td>\n",
       "      <td>...</td>\n",
       "      <td>...</td>\n",
       "      <td>...</td>\n",
       "      <td>...</td>\n",
       "      <td>...</td>\n",
       "      <td>...</td>\n",
       "      <td>...</td>\n",
       "      <td>...</td>\n",
       "      <td>...</td>\n",
       "      <td>...</td>\n",
       "      <td>...</td>\n",
       "      <td>...</td>\n",
       "      <td>...</td>\n",
       "      <td>...</td>\n",
       "      <td>...</td>\n",
       "    </tr>\n",
       "    <tr>\n",
       "      <th>1195</th>\n",
       "      <td>9</td>\n",
       "      <td>0</td>\n",
       "      <td>3</td>\n",
       "      <td>0</td>\n",
       "      <td>5</td>\n",
       "      <td>13</td>\n",
       "      <td>1</td>\n",
       "      <td>2</td>\n",
       "      <td>1</td>\n",
       "      <td>3</td>\n",
       "      <td>...</td>\n",
       "      <td>1</td>\n",
       "      <td>6</td>\n",
       "      <td>3</td>\n",
       "      <td>0</td>\n",
       "      <td>6</td>\n",
       "      <td>5</td>\n",
       "      <td>0</td>\n",
       "      <td>4</td>\n",
       "      <td>0</td>\n",
       "      <td>2</td>\n",
       "    </tr>\n",
       "    <tr>\n",
       "      <th>1196</th>\n",
       "      <td>19</td>\n",
       "      <td>1</td>\n",
       "      <td>1</td>\n",
       "      <td>2</td>\n",
       "      <td>1</td>\n",
       "      <td>15</td>\n",
       "      <td>2</td>\n",
       "      <td>9</td>\n",
       "      <td>2</td>\n",
       "      <td>3</td>\n",
       "      <td>...</td>\n",
       "      <td>2</td>\n",
       "      <td>4</td>\n",
       "      <td>2</td>\n",
       "      <td>0</td>\n",
       "      <td>1</td>\n",
       "      <td>0</td>\n",
       "      <td>0</td>\n",
       "      <td>0</td>\n",
       "      <td>0</td>\n",
       "      <td>0</td>\n",
       "    </tr>\n",
       "    <tr>\n",
       "      <th>1197</th>\n",
       "      <td>32</td>\n",
       "      <td>1</td>\n",
       "      <td>3</td>\n",
       "      <td>1</td>\n",
       "      <td>1</td>\n",
       "      <td>15</td>\n",
       "      <td>2</td>\n",
       "      <td>27</td>\n",
       "      <td>1</td>\n",
       "      <td>3</td>\n",
       "      <td>...</td>\n",
       "      <td>0</td>\n",
       "      <td>20</td>\n",
       "      <td>3</td>\n",
       "      <td>0</td>\n",
       "      <td>20</td>\n",
       "      <td>8</td>\n",
       "      <td>3</td>\n",
       "      <td>8</td>\n",
       "      <td>0</td>\n",
       "      <td>0</td>\n",
       "    </tr>\n",
       "    <tr>\n",
       "      <th>1198</th>\n",
       "      <td>16</td>\n",
       "      <td>0</td>\n",
       "      <td>3</td>\n",
       "      <td>2</td>\n",
       "      <td>0</td>\n",
       "      <td>1</td>\n",
       "      <td>2</td>\n",
       "      <td>8</td>\n",
       "      <td>0</td>\n",
       "      <td>3</td>\n",
       "      <td>...</td>\n",
       "      <td>1</td>\n",
       "      <td>9</td>\n",
       "      <td>3</td>\n",
       "      <td>3</td>\n",
       "      <td>8</td>\n",
       "      <td>7</td>\n",
       "      <td>7</td>\n",
       "      <td>7</td>\n",
       "      <td>0</td>\n",
       "      <td>0</td>\n",
       "    </tr>\n",
       "    <tr>\n",
       "      <th>1199</th>\n",
       "      <td>6</td>\n",
       "      <td>0</td>\n",
       "      <td>1</td>\n",
       "      <td>2</td>\n",
       "      <td>5</td>\n",
       "      <td>13</td>\n",
       "      <td>2</td>\n",
       "      <td>2</td>\n",
       "      <td>2</td>\n",
       "      <td>1</td>\n",
       "      <td>...</td>\n",
       "      <td>2</td>\n",
       "      <td>4</td>\n",
       "      <td>3</td>\n",
       "      <td>0</td>\n",
       "      <td>2</td>\n",
       "      <td>2</td>\n",
       "      <td>2</td>\n",
       "      <td>0</td>\n",
       "      <td>1</td>\n",
       "      <td>1</td>\n",
       "    </tr>\n",
       "  </tbody>\n",
       "</table>\n",
       "<p>1200 rows × 27 columns</p>\n",
       "</div>"
      ],
      "text/plain": [
       "      Age  Gender  EducationBackground  MaritalStatus  EmpDepartment  \\\n",
       "0      14       1                    2              2              5   \n",
       "1      29       1                    2              2              5   \n",
       "2      22       1                    1              1              5   \n",
       "3      23       1                    0              0              3   \n",
       "4      42       1                    2              2              5   \n",
       "...   ...     ...                  ...            ...            ...   \n",
       "1195    9       0                    3              0              5   \n",
       "1196   19       1                    1              2              1   \n",
       "1197   32       1                    3              1              1   \n",
       "1198   16       0                    3              2              0   \n",
       "1199    6       0                    1              2              5   \n",
       "\n",
       "      EmpJobRole  BusinessTravelFrequency  DistanceFromHome  \\\n",
       "0             13                        2                 9   \n",
       "1             13                        2                13   \n",
       "2             13                        1                 4   \n",
       "3              8                        2                 9   \n",
       "4             13                        2                15   \n",
       "...          ...                      ...               ...   \n",
       "1195          13                        1                 2   \n",
       "1196          15                        2                 9   \n",
       "1197          15                        2                27   \n",
       "1198           1                        2                 8   \n",
       "1199          13                        2                 2   \n",
       "\n",
       "      EmpEducationLevel  EmpEnvironmentSatisfaction  ...  \\\n",
       "0                     0                           3  ...   \n",
       "1                     4                           3  ...   \n",
       "2                     4                           3  ...   \n",
       "3                     4                           2  ...   \n",
       "4                     4                           1  ...   \n",
       "...                 ...                         ...  ...   \n",
       "1195                  1                           3  ...   \n",
       "1196                  2                           3  ...   \n",
       "1197                  1                           3  ...   \n",
       "1198                  0                           3  ...   \n",
       "1199                  2                           1  ...   \n",
       "\n",
       "      EmpRelationshipSatisfaction  TotalWorkExperienceInYears  \\\n",
       "0                               3                          10   \n",
       "1                               3                          20   \n",
       "2                               0                          20   \n",
       "3                               1                          23   \n",
       "4                               3                          10   \n",
       "...                           ...                         ...   \n",
       "1195                            1                           6   \n",
       "1196                            2                           4   \n",
       "1197                            0                          20   \n",
       "1198                            1                           9   \n",
       "1199                            2                           4   \n",
       "\n",
       "      TrainingTimesLastYear  EmpWorkLifeBalance  ExperienceYearsAtThisCompany  \\\n",
       "0                         2                   1                            10   \n",
       "1                         2                   0                             7   \n",
       "2                         2                   0                            18   \n",
       "3                         2                   1                            21   \n",
       "4                         1                   0                             2   \n",
       "...                     ...                 ...                           ...   \n",
       "1195                      3                   0                             6   \n",
       "1196                      2                   0                             1   \n",
       "1197                      3                   0                            20   \n",
       "1198                      3                   3                             8   \n",
       "1199                      3                   0                             2   \n",
       "\n",
       "      ExperienceYearsInCurrentRole  YearsSinceLastPromotion  \\\n",
       "0                                7                        0   \n",
       "1                                7                        1   \n",
       "2                               13                        1   \n",
       "3                                6                       12   \n",
       "4                                2                        2   \n",
       "...                            ...                      ...   \n",
       "1195                             5                        0   \n",
       "1196                             0                        0   \n",
       "1197                             8                        3   \n",
       "1198                             7                        7   \n",
       "1199                             2                        2   \n",
       "\n",
       "      YearsWithCurrManager  Attrition  PerformanceRating  \n",
       "0                        8          0                  0  \n",
       "1                        7          0                  0  \n",
       "2                       12          0                  2  \n",
       "3                        6          0                  0  \n",
       "4                        2          0                  0  \n",
       "...                    ...        ...                ...  \n",
       "1195                     4          0                  2  \n",
       "1196                     0          0                  0  \n",
       "1197                     8          0                  0  \n",
       "1198                     7          0                  0  \n",
       "1199                     0          1                  1  \n",
       "\n",
       "[1200 rows x 27 columns]"
      ]
     },
     "execution_count": 85,
     "metadata": {},
     "output_type": "execute_result"
    }
   ],
   "source": [
    "data"
   ]
  },
  {
   "cell_type": "code",
   "execution_count": 86,
   "id": "82c56eb5",
   "metadata": {},
   "outputs": [
    {
     "data": {
      "image/png": "[encoded data removed]",
      "text/plain": [
       "<Figure size 1296x504 with 2 Axes>"
      ]
     },
     "metadata": {
      "needs_background": "light"
     },
     "output_type": "display_data"
    }
   ],
   "source": [
    "plt.figure(figsize = (18, 7))\n",
    "sns.heatmap(data_corr)\n",
    "plt.show()"
   ]
  },
  {
   "cell_type": "code",
   "execution_count": 87,
   "id": "4af7c51b",
   "metadata": {},
   "outputs": [
    {
     "data": {
      "text/plain": [
       "PerformanceRating               1.000000\n",
       "EmpLastSalaryHikePercent        0.482843\n",
       "EmpDepartment                   0.091329\n",
       "YearsSinceLastPromotion         0.077439\n",
       "ExperienceYearsInCurrentRole    0.070861\n",
       "YearsWithCurrManager            0.064807\n",
       "ExperienceYearsAtThisCompany    0.061544\n",
       "EmpWorkLifeBalance              0.046851\n",
       "MaritalStatus                   0.043447\n",
       "EmpJobLevel                     0.035756\n",
       "EmpJobRole                      0.029358\n",
       "TotalWorkExperienceInYears      0.026491\n",
       "Attrition                       0.014108\n",
       "EmpHourlyRate                   0.013218\n",
       "Gender                          0.010830\n",
       "Age                             0.008342\n",
       "EmpJobSatisfaction              0.008263\n",
       "NumCompaniesWorked              0.005215\n",
       "EmpRelationshipSatisfaction     0.001102\n",
       "EmpJobInvolvement              -0.001556\n",
       "EmpEnvironmentSatisfaction     -0.002913\n",
       "EmpEducationLevel              -0.005774\n",
       "EducationBackground            -0.010018\n",
       "DistanceFromHome               -0.012072\n",
       "TrainingTimesLastYear          -0.024342\n",
       "BusinessTravelFrequency        -0.050002\n",
       "OverTime                       -0.069679\n",
       "Name: PerformanceRating, dtype: float64"
      ]
     },
     "execution_count": 87,
     "metadata": {},
     "output_type": "execute_result"
    }
   ],
   "source": [
    "table = data_corr['PerformanceRating'].sort_values(ascending=False)\n",
    "table"
   ]
  },
  {
   "cell_type": "code",
   "execution_count": 88,
   "id": "70991042",
   "metadata": {},
   "outputs": [
    {
     "name": "stdout",
     "output_type": "stream",
     "text": [
      "Stored 'data' (DataFrame)\n"
     ]
    }
   ],
   "source": [
    "# Storing the Dataframe Data\n",
    "%store data"
   ]
  },
  {
   "cell_type": "markdown",
   "id": "a7bbe880",
   "metadata": {},
   "source": [
    "### Numerical features analysis\n",
    "\n",
    "1) The Age distribution ranges from 18 to 60, but most of the employees are in between the range of 30 to 40 age.\n",
    "\n",
    "2) Most of the employees lives nearly 0 – 5 Kms or Miles from Office.\n",
    "\n",
    "3) Most of the employees work as low-level job in the Organization.\n",
    "\n",
    "4) The organization is mostly considered to be the second company for the Employees.\n",
    "\n",
    "5) The company has offered minimum of 11% and Maximum of 25%, but most of the employee has received low percentage hike of 11- 14%.\n",
    "\n",
    "6) Most likely the employees are staying in this company for about 5 years.\n",
    "\n",
    "7) The employees undergo 2 – 3 training in the last year.\n",
    "\n",
    "\n",
    "\n",
    "### Categorical features Analysis\n",
    "\n",
    "1) There are 60% of Male and 40% Female working in this Company.\n",
    "\n",
    "2) Most of the Employees are from Life Science and Medical Background.\n",
    "\n",
    "3) The Employees are mostly Working in Sale, Development, Research and Development Department and Least working Employees are from Data Science Department.\n",
    "\n",
    "4) Sale Executive and Developer are the top 2 departments where Employee count is high.\n",
    "\n",
    "5) Most of the Employee’s work doesn’t involve travelling for work.\n",
    "\n",
    "6) Most of the Employee have completed their Bachelor degree.\n",
    "\n",
    "7) Most of the Employee’s Job Satisfaction, Environment Satisfaction and Job Involvement is High.\n",
    "\n",
    "8) 71% of Employees are not working Over Time.\n",
    "\n",
    "9) The 85% of employees are not having attrition in their work.\n",
    "\n",
    "### Correlation Analysis\n",
    "\n",
    "1) EmpLastSalaryHikePercent, EmpDepartment,YearsSinceLastPromotion, ExperienceYearsInCurrentRole, YearsWithCurrManager, ExperienceYearsAtThisCompany are having the positive correlation when comparing to all features.\n",
    "\n",
    "2) EducationBackground, DistanceFromHome, TrainingTimesLastYear, BusinessTravelFrequency, OverTime are the features which are negatively correlate with the Perfomance Rating                      \n",
    "\n",
    "3) People who have more experience with the company has the more probability to get the promotion from the correlation between them.\n"
   ]
  }
 ],
 "metadata": {
  "kernelspec": {
   "display_name": "Python 3 (ipykernel)",
   "language": "python",
   "name": "python3"
  },
  "language_info": {
   "codemirror_mode": {
    "name": "ipython",
    "version": 3
   },
   "file_extension": ".py",
   "mimetype": "text/x-python",
   "name": "python",
   "nbconvert_exporter": "python",
   "pygments_lexer": "ipython3",
   "version": "3.9.12"
  }
 },
 "nbformat": 4,
 "nbformat_minor": 5
}
