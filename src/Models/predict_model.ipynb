{
 "cells": [
  {
   "cell_type": "code",
   "execution_count": 1,
   "id": "162ab4d6",
   "metadata": {
    "collapsed": true
   },
   "outputs": [
    {
     "name": "stdout",
     "output_type": "stream",
     "text": [
      "Requirement already satisfied: import-ipynb in c:\\users\\krish\\anaconda3\\lib\\site-packages (0.1.4)Note: you may need to restart the kernel to use updated packages.\n",
      "Requirement already satisfied: IPython in c:\\users\\krish\\anaconda3\\lib\\site-packages (from import-ipynb) (8.2.0)\n",
      "Requirement already satisfied: nbformat in c:\\users\\krish\\anaconda3\\lib\\site-packages (from import-ipynb) (5.3.0)\n",
      "Requirement already satisfied: traitlets>=5 in c:\\users\\krish\\anaconda3\\lib\\site-packages (from IPython->import-ipynb) (5.1.1)\n",
      "Requirement already satisfied: backcall in c:\\users\\krish\\anaconda3\\lib\\site-packages (from IPython->import-ipynb) (0.2.0)\n",
      "Requirement already satisfied: colorama in c:\\users\\krish\\anaconda3\\lib\\site-packages (from IPython->import-ipynb) (0.4.4)\n",
      "Requirement already satisfied: prompt-toolkit!=3.0.0,!=3.0.1,<3.1.0,>=2.0.0 in c:\\users\\krish\\anaconda3\\lib\\site-packages (from IPython->import-ipynb) (3.0.20)\n",
      "Requirement already satisfied: decorator in c:\\users\\krish\\anaconda3\\lib\\site-packages (from IPython->import-ipynb) (5.1.1)\n",
      "Requirement already satisfied: pygments>=2.4.0 in c:\\users\\krish\\anaconda3\\lib\\site-packages (from IPython->import-ipynb) (2.11.2)\n",
      "Requirement already satisfied: setuptools>=18.5 in c:\\users\\krish\\anaconda3\\lib\\site-packages (from IPython->import-ipynb) (61.2.0)\n",
      "Requirement already satisfied: stack-data in c:\\users\\krish\\anaconda3\\lib\\site-packages (from IPython->import-ipynb) (0.2.0)\n",
      "Requirement already satisfied: pickleshare in c:\\users\\krish\\anaconda3\\lib\\site-packages (from IPython->import-ipynb) (0.7.5)\n",
      "Requirement already satisfied: jedi>=0.16 in c:\\users\\krish\\anaconda3\\lib\\site-packages (from IPython->import-ipynb) (0.18.1)\n",
      "Requirement already satisfied: matplotlib-inline in c:\\users\\krish\\anaconda3\\lib\\site-packages (from IPython->import-ipynb) (0.1.2)\n",
      "Requirement already satisfied: parso<0.9.0,>=0.8.0 in c:\\users\\krish\\anaconda3\\lib\\site-packages (from jedi>=0.16->IPython->import-ipynb) (0.8.3)\n",
      "Requirement already satisfied: wcwidth in c:\\users\\krish\\anaconda3\\lib\\site-packages (from prompt-toolkit!=3.0.0,!=3.0.1,<3.1.0,>=2.0.0->IPython->import-ipynb) (0.2.5)\n",
      "Requirement already satisfied: fastjsonschema in c:\\users\\krish\\anaconda3\\lib\\site-packages (from nbformat->import-ipynb) (2.15.1)\n",
      "Requirement already satisfied: jsonschema>=2.6 in c:\\users\\krish\\anaconda3\\lib\\site-packages (from nbformat->import-ipynb) (4.4.0)\n",
      "Requirement already satisfied: jupyter-core in c:\\users\\krish\\anaconda3\\lib\\site-packages (from nbformat->import-ipynb) (4.9.2)\n",
      "Requirement already satisfied: attrs>=17.4.0 in c:\\users\\krish\\anaconda3\\lib\\site-packages (from jsonschema>=2.6->nbformat->import-ipynb) (21.4.0)\n",
      "Requirement already satisfied: pyrsistent!=0.17.0,!=0.17.1,!=0.17.2,>=0.14.0 in c:\\users\\krish\\anaconda3\\lib\\site-packages (from jsonschema>=2.6->nbformat->import-ipynb) (0.18.0)\n",
      "Requirement already satisfied: pywin32>=1.0 in c:\\users\\krish\\anaconda3\\lib\\site-packages (from jupyter-core->nbformat->import-ipynb) (302)\n",
      "Requirement already satisfied: pure-eval in c:\\users\\krish\\anaconda3\\lib\\site-packages (from stack-data->IPython->import-ipynb) (0.2.2)\n",
      "Requirement already satisfied: executing in c:\\users\\krish\\anaconda3\\lib\\site-packages (from stack-data->IPython->import-ipynb) (0.8.3)\n",
      "Requirement already satisfied: asttokens in c:\\users\\krish\\anaconda3\\lib\\site-packages (from stack-data->IPython->import-ipynb) (2.0.5)\n",
      "Requirement already satisfied: six in c:\\users\\krish\\anaconda3\\lib\\site-packages (from asttokens->stack-data->IPython->import-ipynb) (1.16.0)\n",
      "\n"
     ]
    }
   ],
   "source": [
    "%pip install import-ipynb"
   ]
  },
  {
   "cell_type": "code",
   "execution_count": 2,
   "id": "6323e7c8",
   "metadata": {},
   "outputs": [],
   "source": [
    "# Importing the needed Libraries\n",
    "\n",
    "import import_ipynb\n",
    "from sklearn.metrics import accuracy_score, confusion_matrix, classification_report"
   ]
  },
  {
   "cell_type": "markdown",
   "id": "37cb95f0",
   "metadata": {},
   "source": [
    "## Logistic Regression Predictive model"
   ]
  },
  {
   "cell_type": "code",
   "execution_count": 3,
   "id": "7c2842e8",
   "metadata": {},
   "outputs": [],
   "source": [
    "# Reading the Stored df from another .ipynb file\n",
    "%store -r reg_model\n",
    "%store -r reg_df"
   ]
  },
  {
   "cell_type": "code",
   "execution_count": 4,
   "id": "d2517e9a",
   "metadata": {},
   "outputs": [],
   "source": [
    "X_test = reg_df.iloc[:,:-1]\n",
    "y_test = reg_df.PerformanceRating"
   ]
  },
  {
   "cell_type": "code",
   "execution_count": 5,
   "id": "21a1009f",
   "metadata": {},
   "outputs": [
    {
     "name": "stdout",
     "output_type": "stream",
     "text": [
      "accuracy score:  84.88 %\n",
      "[[240  20  18]\n",
      " [ 29 192  29]\n",
      " [  6  17 236]]\n",
      "              precision    recall  f1-score   support\n",
      "\n",
      "           2       0.87      0.86      0.87       278\n",
      "           3       0.84      0.77      0.80       250\n",
      "           4       0.83      0.91      0.87       259\n",
      "\n",
      "    accuracy                           0.85       787\n",
      "   macro avg       0.85      0.85      0.85       787\n",
      "weighted avg       0.85      0.85      0.85       787\n",
      "\n"
     ]
    }
   ],
   "source": [
    "y_pred = reg_model.predict(X_test)\n",
    "print('Accuracy score: ',round(accuracy_score(y_test, y_pred)*100,2),\"%\")\n",
    "print(confusion_matrix(y_test, y_pred))\n",
    "print(classification_report(y_test, y_pred))"
   ]
  },
  {
   "cell_type": "markdown",
   "id": "df4b0784",
   "metadata": {},
   "source": [
    "## Random Forest Classifier Predictive model"
   ]
  },
  {
   "cell_type": "code",
   "execution_count": 6,
   "id": "6b920847",
   "metadata": {},
   "outputs": [],
   "source": [
    "%store -r rfc_model\n",
    "%store -r rfc_df"
   ]
  },
  {
   "cell_type": "code",
   "execution_count": 7,
   "id": "978a8f7c",
   "metadata": {},
   "outputs": [],
   "source": [
    "X_test = rfc_df.iloc[:,:-1]\n",
    "y_test = rfc_df.PerformanceRating"
   ]
  },
  {
   "cell_type": "code",
   "execution_count": 8,
   "id": "f70eb541",
   "metadata": {},
   "outputs": [
    {
     "name": "stdout",
     "output_type": "stream",
     "text": [
      "accuracy score:  96.0 %\n",
      "[[269   8   1]\n",
      " [  6 236   8]\n",
      " [  1  10 248]]\n",
      "              precision    recall  f1-score   support\n",
      "\n",
      "           2       0.97      0.97      0.97       278\n",
      "           3       0.93      0.94      0.94       250\n",
      "           4       0.96      0.96      0.96       259\n",
      "\n",
      "    accuracy                           0.96       787\n",
      "   macro avg       0.96      0.96      0.96       787\n",
      "weighted avg       0.96      0.96      0.96       787\n",
      "\n"
     ]
    }
   ],
   "source": [
    "y_pred = rfc_model.predict(X_test)\n",
    "print('accuracy score: ',round(accuracy_score(y_test, y_pred),2)*100,\"%\")\n",
    "print(confusion_matrix(y_test, y_pred))\n",
    "print(classification_report(y_test, y_pred))"
   ]
  },
  {
   "cell_type": "markdown",
   "id": "ba227b34",
   "metadata": {},
   "source": [
    "## Decision Tree Classifier Predictive model"
   ]
  },
  {
   "cell_type": "code",
   "execution_count": 9,
   "id": "3ca8af9c",
   "metadata": {},
   "outputs": [],
   "source": [
    "%store -r dtc_model\n",
    "%store -r dtc_df"
   ]
  },
  {
   "cell_type": "code",
   "execution_count": 10,
   "id": "5210acba",
   "metadata": {},
   "outputs": [],
   "source": [
    "X_test = rfc_df.iloc[:,:-1]\n",
    "y_test = rfc_df.PerformanceRating"
   ]
  },
  {
   "cell_type": "code",
   "execution_count": 11,
   "id": "a271eae8",
   "metadata": {},
   "outputs": [
    {
     "name": "stdout",
     "output_type": "stream",
     "text": [
      "accuracy score:  91.0 %\n",
      "[[269   4   5]\n",
      " [ 11 205  34]\n",
      " [  2  12 245]]\n",
      "              precision    recall  f1-score   support\n",
      "\n",
      "           2       0.95      0.97      0.96       278\n",
      "           3       0.93      0.82      0.87       250\n",
      "           4       0.86      0.95      0.90       259\n",
      "\n",
      "    accuracy                           0.91       787\n",
      "   macro avg       0.91      0.91      0.91       787\n",
      "weighted avg       0.92      0.91      0.91       787\n",
      "\n"
     ]
    }
   ],
   "source": [
    "y_pred = dtc_model.predict(X_test)\n",
    "print('accuracy score: ',round(accuracy_score(y_test, y_pred),2)*100,\"%\")\n",
    "print(confusion_matrix(y_test, y_pred))\n",
    "print(classification_report(y_test, y_pred))"
   ]
  },
  {
   "cell_type": "markdown",
   "id": "be955b67",
   "metadata": {},
   "source": [
    "# K Nearest Neighbors Classifier Predictive model"
   ]
  },
  {
   "cell_type": "code",
   "execution_count": 12,
   "id": "e7a35127",
   "metadata": {},
   "outputs": [],
   "source": [
    "%store -r knn_model\n",
    "%store -r knn_df"
   ]
  },
  {
   "cell_type": "code",
   "execution_count": 13,
   "id": "d87cd511",
   "metadata": {},
   "outputs": [],
   "source": [
    "X_test = knn_df.iloc[:,:-1]\n",
    "y_test = knn_df.PerformanceRating"
   ]
  },
  {
   "cell_type": "code",
   "execution_count": 14,
   "id": "acf42f3f",
   "metadata": {},
   "outputs": [
    {
     "name": "stdout",
     "output_type": "stream",
     "text": [
      "accuracy score:  81.0 %\n",
      "[[158   3   6]\n",
      " [ 54  97  32]\n",
      " [  1   2 172]]\n",
      "              precision    recall  f1-score   support\n",
      "\n",
      "           2       0.74      0.95      0.83       167\n",
      "           3       0.95      0.53      0.68       183\n",
      "           4       0.82      0.98      0.89       175\n",
      "\n",
      "    accuracy                           0.81       525\n",
      "   macro avg       0.84      0.82      0.80       525\n",
      "weighted avg       0.84      0.81      0.80       525\n",
      "\n"
     ]
    }
   ],
   "source": [
    "y_pred = knn_model.predict(X_test)\n",
    "print('accuracy score: ',round(accuracy_score(y_test, y_pred),2)*100,\"%\")\n",
    "print(confusion_matrix(y_test, y_pred))\n",
    "print(classification_report(y_test, y_pred))"
   ]
  },
  {
   "cell_type": "markdown",
   "id": "30e4f0d2",
   "metadata": {},
   "source": [
    "# Multinomial Naive Bayes Predictive model"
   ]
  },
  {
   "cell_type": "code",
   "execution_count": 15,
   "id": "33f2c012",
   "metadata": {},
   "outputs": [],
   "source": [
    "%store -r nb_model_Multi\n",
    "%store -r nb_Multi_df"
   ]
  },
  {
   "cell_type": "code",
   "execution_count": 16,
   "id": "db2c4da5",
   "metadata": {},
   "outputs": [],
   "source": [
    "X_test = nb_Multi_df.iloc[:,:-1]\n",
    "y_test = nb_Multi_df.PerformanceRating"
   ]
  },
  {
   "cell_type": "code",
   "execution_count": 17,
   "id": "42c74881",
   "metadata": {},
   "outputs": [
    {
     "name": "stdout",
     "output_type": "stream",
     "text": [
      "accuracy score:  34.66666666666667 %\n",
      "[[79 40 65]\n",
      " [73 29 71]\n",
      " [61 33 74]]\n",
      "              precision    recall  f1-score   support\n",
      "\n",
      "           2       0.37      0.43      0.40       184\n",
      "           3       0.28      0.17      0.21       173\n",
      "           4       0.35      0.44      0.39       168\n",
      "\n",
      "    accuracy                           0.35       525\n",
      "   macro avg       0.34      0.35      0.33       525\n",
      "weighted avg       0.34      0.35      0.33       525\n",
      "\n"
     ]
    }
   ],
   "source": [
    "print('accuracy score: ',accuracy_score(y_test, y_pred)*100,\"%\")\n",
    "print(confusion_matrix(y_test, y_pred))\n",
    "print(classification_report(y_test, y_pred))\n",
    "y_pred = nb_model_Multi.predict(X_test)"
   ]
  },
  {
   "cell_type": "markdown",
   "id": "48edab5d",
   "metadata": {},
   "source": [
    "# Gaussian Naive Bayes Predictive model"
   ]
  },
  {
   "cell_type": "code",
   "execution_count": 18,
   "id": "f338978e",
   "metadata": {},
   "outputs": [],
   "source": [
    "%store -r nb_model_Gauss\n",
    "%store -r nb_Gauss_df"
   ]
  },
  {
   "cell_type": "code",
   "execution_count": 19,
   "id": "2091d169",
   "metadata": {},
   "outputs": [],
   "source": [
    "X_test = nb_Gauss_df.iloc[:,:-1]\n",
    "y_test = nb_Gauss_df.PerformanceRating"
   ]
  },
  {
   "cell_type": "code",
   "execution_count": 20,
   "id": "b8f7859f",
   "metadata": {},
   "outputs": [
    {
     "name": "stdout",
     "output_type": "stream",
     "text": [
      "accuracy score:  91.66666666666666 %\n",
      "[[5 0 0]\n",
      " [0 3 0]\n",
      " [0 1 3]]\n",
      "              precision    recall  f1-score   support\n",
      "\n",
      "           2       1.00      1.00      1.00         5\n",
      "           3       0.75      1.00      0.86         3\n",
      "           4       1.00      0.75      0.86         4\n",
      "\n",
      "    accuracy                           0.92        12\n",
      "   macro avg       0.92      0.92      0.90        12\n",
      "weighted avg       0.94      0.92      0.92        12\n",
      "\n"
     ]
    }
   ],
   "source": [
    "y_pred = nb_model_Gauss.predict(X_test)\n",
    "print('accuracy score: ',accuracy_score(y_test, y_pred)*100,\"%\")\n",
    "print(confusion_matrix(y_test, y_pred))\n",
    "print(classification_report(y_test, y_pred))"
   ]
  },
  {
   "cell_type": "markdown",
   "id": "268af278",
   "metadata": {},
   "source": [
    "# Bernoulli Naive Bayes Predictive model"
   ]
  },
  {
   "cell_type": "code",
   "execution_count": 21,
   "id": "4f54b575",
   "metadata": {},
   "outputs": [],
   "source": [
    "%store -r nb_model_Bern\n",
    "%store -r nb_Bern_df"
   ]
  },
  {
   "cell_type": "code",
   "execution_count": 22,
   "id": "dedd85b6",
   "metadata": {},
   "outputs": [],
   "source": [
    "X_test = nb_Bern_df.iloc[:,:-1]\n",
    "y_test = nb_Bern_df.PerformanceRating"
   ]
  },
  {
   "cell_type": "code",
   "execution_count": 23,
   "id": "e6213d49",
   "metadata": {},
   "outputs": [
    {
     "name": "stdout",
     "output_type": "stream",
     "text": [
      "accuracy score:  80.0 %\n",
      "[[8 0 0]\n",
      " [1 3 1]\n",
      " [1 0 1]]\n",
      "              precision    recall  f1-score   support\n",
      "\n",
      "           2       0.80      1.00      0.89         8\n",
      "           3       1.00      0.60      0.75         5\n",
      "           4       0.50      0.50      0.50         2\n",
      "\n",
      "    accuracy                           0.80        15\n",
      "   macro avg       0.77      0.70      0.71        15\n",
      "weighted avg       0.83      0.80      0.79        15\n",
      "\n"
     ]
    }
   ],
   "source": [
    "y_pred = nb_model_Bern.predict(X_test)\n",
    "print('accuracy score: ',accuracy_score(y_test, y_pred)*100,\"%\")\n",
    "print(confusion_matrix(y_test, y_pred))\n",
    "print(classification_report(y_test, y_pred))"
   ]
  },
  {
   "cell_type": "markdown",
   "id": "8d0920cb",
   "metadata": {},
   "source": [
    "Model Training and Evaluation We have tried with different models such as:\n",
    "\n",
    "1) Logistic Regression (Accuracy – 85.01%)\n",
    "\n",
    "2) **Random Forest Classifier** (Accuracy - **95%**)\n",
    "\n",
    "3) Decision Tree Classifier (Accuracy - 92%)\n",
    "\n",
    "4) KNN (Accuracy - 82%)\n",
    "\n",
    "5) MultinomialNB (Accuracy - 60%)\n",
    "\n",
    "6) GaussianNB (Accuracy - 91.6%)\n",
    "\n",
    "7) BernoulliNB (Accuracy - 86%)"
   ]
  }
 ],
 "metadata": {
  "kernelspec": {
   "display_name": "Python 3 (ipykernel)",
   "language": "python",
   "name": "python3"
  },
  "language_info": {
   "codemirror_mode": {
    "name": "ipython",
    "version": 3
   },
   "file_extension": ".py",
   "mimetype": "text/x-python",
   "name": "python",
   "nbconvert_exporter": "python",
   "pygments_lexer": "ipython3",
   "version": "3.9.12"
  }
 },
 "nbformat": 4,
 "nbformat_minor": 5
}
