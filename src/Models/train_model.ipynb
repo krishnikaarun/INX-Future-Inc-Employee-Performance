{
 "cells": [
  {
   "cell_type": "code",
   "execution_count": 1,
   "id": "f05a9eed",
   "metadata": {},
   "outputs": [
    {
     "name": "stdout",
     "output_type": "stream",
     "text": [
      "Requirement already satisfied: import-ipynb in c:\\users\\krish\\anaconda3\\lib\\site-packages (0.1.4)\n",
      "Requirement already satisfied: IPython in c:\\users\\krish\\anaconda3\\lib\\site-packages (from import-ipynb) (8.2.0)\n",
      "Requirement already satisfied: nbformat in c:\\users\\krish\\anaconda3\\lib\\site-packages (from import-ipynb) (5.3.0)\n",
      "Requirement already satisfied: traitlets>=5 in c:\\users\\krish\\anaconda3\\lib\\site-packages (from IPython->import-ipynb) (5.1.1)\n",
      "Requirement already satisfied: setuptools>=18.5 in c:\\users\\krish\\anaconda3\\lib\\site-packages (from IPython->import-ipynb) (61.2.0)\n",
      "Requirement already satisfied: prompt-toolkit!=3.0.0,!=3.0.1,<3.1.0,>=2.0.0 in c:\\users\\krish\\anaconda3\\lib\\site-packages (from IPython->import-ipynb) (3.0.20)\n",
      "Requirement already satisfied: pickleshare in c:\\users\\krish\\anaconda3\\lib\\site-packages (from IPython->import-ipynb) (0.7.5)\n",
      "Requirement already satisfied: matplotlib-inline in c:\\users\\krish\\anaconda3\\lib\\site-packages (from IPython->import-ipynb) (0.1.2)\n",
      "Requirement already satisfied: stack-data in c:\\users\\krish\\anaconda3\\lib\\site-packages (from IPython->import-ipynb) (0.2.0)\n",
      "Requirement already satisfied: pygments>=2.4.0 in c:\\users\\krish\\anaconda3\\lib\\site-packages (from IPython->import-ipynb) (2.11.2)\n",
      "Requirement already satisfied: backcall in c:\\users\\krish\\anaconda3\\lib\\site-packages (from IPython->import-ipynb) (0.2.0)\n",
      "Requirement already satisfied: colorama in c:\\users\\krish\\anaconda3\\lib\\site-packages (from IPython->import-ipynb) (0.4.4)\n",
      "Requirement already satisfied: decorator in c:\\users\\krish\\anaconda3\\lib\\site-packages (from IPython->import-ipynb) (5.1.1)\n",
      "Requirement already satisfied: jedi>=0.16 in c:\\users\\krish\\anaconda3\\lib\\site-packages (from IPython->import-ipynb) (0.18.1)\n",
      "Requirement already satisfied: parso<0.9.0,>=0.8.0 in c:\\users\\krish\\anaconda3\\lib\\site-packages (from jedi>=0.16->IPython->import-ipynb) (0.8.3)\n",
      "Requirement already satisfied: wcwidth in c:\\users\\krish\\anaconda3\\lib\\site-packages (from prompt-toolkit!=3.0.0,!=3.0.1,<3.1.0,>=2.0.0->IPython->import-ipynb) (0.2.5)\n",
      "Requirement already satisfied: jsonschema>=2.6 in c:\\users\\krish\\anaconda3\\lib\\site-packages (from nbformat->import-ipynb) (4.4.0)\n",
      "Requirement already satisfied: fastjsonschema in c:\\users\\krish\\anaconda3\\lib\\site-packages (from nbformat->import-ipynb) (2.15.1)\n",
      "Requirement already satisfied: jupyter-core in c:\\users\\krish\\anaconda3\\lib\\site-packages (from nbformat->import-ipynb) (4.9.2)\n",
      "Requirement already satisfied: pyrsistent!=0.17.0,!=0.17.1,!=0.17.2,>=0.14.0 in c:\\users\\krish\\anaconda3\\lib\\site-packages (from jsonschema>=2.6->nbformat->import-ipynb) (0.18.0)\n",
      "Requirement already satisfied: attrs>=17.4.0 in c:\\users\\krish\\anaconda3\\lib\\site-packages (from jsonschema>=2.6->nbformat->import-ipynb) (21.4.0)\n",
      "Requirement already satisfied: pywin32>=1.0 in c:\\users\\krish\\anaconda3\\lib\\site-packages (from jupyter-core->nbformat->import-ipynb) (302)\n",
      "Requirement already satisfied: pure-eval in c:\\users\\krish\\anaconda3\\lib\\site-packages (from stack-data->IPython->import-ipynb) (0.2.2)\n",
      "Requirement already satisfied: asttokens in c:\\users\\krish\\anaconda3\\lib\\site-packages (from stack-data->IPython->import-ipynb) (2.0.5)\n",
      "Requirement already satisfied: executing in c:\\users\\krish\\anaconda3\\lib\\site-packages (from stack-data->IPython->import-ipynb) (0.8.3)\n",
      "Requirement already satisfied: six in c:\\users\\krish\\anaconda3\\lib\\site-packages (from asttokens->stack-data->IPython->import-ipynb) (1.16.0)\n",
      "Note: you may need to restart the kernel to use updated packages.\n"
     ]
    }
   ],
   "source": [
    "%pip install import-ipynb"
   ]
  },
  {
   "cell_type": "code",
   "execution_count": 2,
   "id": "1387d22f",
   "metadata": {},
   "outputs": [],
   "source": [
    "# Importing the needed Libraries\n",
    "import import_ipynb\n",
    "import pandas as pd\n",
    "from sklearn.model_selection import train_test_split, GridSearchCV, RandomizedSearchCV\n",
    "from sklearn.feature_selection import SelectKBest, chi2\n",
    "from sklearn.linear_model import LogisticRegression\n",
    "from sklearn.feature_selection import SelectFromModel\n",
    "from sklearn.tree import DecisionTreeClassifier\n",
    "from sklearn.ensemble import RandomForestClassifier\n",
    "from sklearn.neighbors import KNeighborsClassifier\n",
    "from sklearn.naive_bayes import GaussianNB, BernoulliNB, MultinomialNB\n",
    "\n",
    "\n",
    "import warnings\n",
    "warnings.filterwarnings('ignore')"
   ]
  },
  {
   "cell_type": "code",
   "execution_count": 3,
   "id": "22bf097f",
   "metadata": {},
   "outputs": [],
   "source": [
    "# Reading Stored values from other .ipynb file\n",
    "%store -r X\n",
    "%store -r y"
   ]
  },
  {
   "cell_type": "code",
   "execution_count": 4,
   "id": "f73e920f",
   "metadata": {},
   "outputs": [
    {
     "data": {
      "text/html": [
       "<div>\n",
       "<style scoped>\n",
       "    .dataframe tbody tr th:only-of-type {\n",
       "        vertical-align: middle;\n",
       "    }\n",
       "\n",
       "    .dataframe tbody tr th {\n",
       "        vertical-align: top;\n",
       "    }\n",
       "\n",
       "    .dataframe thead th {\n",
       "        text-align: right;\n",
       "    }\n",
       "</style>\n",
       "<table border=\"1\" class=\"dataframe\">\n",
       "  <thead>\n",
       "    <tr style=\"text-align: right;\">\n",
       "      <th></th>\n",
       "      <th>Age</th>\n",
       "      <th>Gender</th>\n",
       "      <th>EducationBackground</th>\n",
       "      <th>MaritalStatus</th>\n",
       "      <th>EmpDepartment</th>\n",
       "      <th>EmpJobRole</th>\n",
       "      <th>BusinessTravelFrequency</th>\n",
       "      <th>DistanceFromHome</th>\n",
       "      <th>EmpEducationLevel</th>\n",
       "      <th>EmpEnvironmentSatisfaction</th>\n",
       "      <th>...</th>\n",
       "      <th>EmpLastSalaryHikePercent</th>\n",
       "      <th>EmpRelationshipSatisfaction</th>\n",
       "      <th>TotalWorkExperienceInYears</th>\n",
       "      <th>TrainingTimesLastYear</th>\n",
       "      <th>EmpWorkLifeBalance</th>\n",
       "      <th>ExperienceYearsAtThisCompany</th>\n",
       "      <th>ExperienceYearsInCurrentRole</th>\n",
       "      <th>YearsSinceLastPromotion</th>\n",
       "      <th>YearsWithCurrManager</th>\n",
       "      <th>Attrition</th>\n",
       "    </tr>\n",
       "  </thead>\n",
       "  <tbody>\n",
       "    <tr>\n",
       "      <th>0</th>\n",
       "      <td>32</td>\n",
       "      <td>1</td>\n",
       "      <td>2</td>\n",
       "      <td>2</td>\n",
       "      <td>5</td>\n",
       "      <td>13</td>\n",
       "      <td>2</td>\n",
       "      <td>10</td>\n",
       "      <td>3</td>\n",
       "      <td>4</td>\n",
       "      <td>...</td>\n",
       "      <td>12</td>\n",
       "      <td>4</td>\n",
       "      <td>10</td>\n",
       "      <td>2</td>\n",
       "      <td>2</td>\n",
       "      <td>10</td>\n",
       "      <td>7</td>\n",
       "      <td>0</td>\n",
       "      <td>8</td>\n",
       "      <td>0</td>\n",
       "    </tr>\n",
       "    <tr>\n",
       "      <th>1</th>\n",
       "      <td>47</td>\n",
       "      <td>1</td>\n",
       "      <td>2</td>\n",
       "      <td>2</td>\n",
       "      <td>5</td>\n",
       "      <td>13</td>\n",
       "      <td>2</td>\n",
       "      <td>14</td>\n",
       "      <td>4</td>\n",
       "      <td>4</td>\n",
       "      <td>...</td>\n",
       "      <td>12</td>\n",
       "      <td>4</td>\n",
       "      <td>20</td>\n",
       "      <td>2</td>\n",
       "      <td>3</td>\n",
       "      <td>7</td>\n",
       "      <td>7</td>\n",
       "      <td>1</td>\n",
       "      <td>7</td>\n",
       "      <td>0</td>\n",
       "    </tr>\n",
       "    <tr>\n",
       "      <th>2</th>\n",
       "      <td>40</td>\n",
       "      <td>1</td>\n",
       "      <td>1</td>\n",
       "      <td>1</td>\n",
       "      <td>5</td>\n",
       "      <td>13</td>\n",
       "      <td>1</td>\n",
       "      <td>5</td>\n",
       "      <td>4</td>\n",
       "      <td>4</td>\n",
       "      <td>...</td>\n",
       "      <td>21</td>\n",
       "      <td>3</td>\n",
       "      <td>20</td>\n",
       "      <td>2</td>\n",
       "      <td>3</td>\n",
       "      <td>18</td>\n",
       "      <td>13</td>\n",
       "      <td>1</td>\n",
       "      <td>12</td>\n",
       "      <td>0</td>\n",
       "    </tr>\n",
       "    <tr>\n",
       "      <th>3</th>\n",
       "      <td>41</td>\n",
       "      <td>1</td>\n",
       "      <td>0</td>\n",
       "      <td>0</td>\n",
       "      <td>3</td>\n",
       "      <td>8</td>\n",
       "      <td>2</td>\n",
       "      <td>10</td>\n",
       "      <td>4</td>\n",
       "      <td>2</td>\n",
       "      <td>...</td>\n",
       "      <td>15</td>\n",
       "      <td>2</td>\n",
       "      <td>23</td>\n",
       "      <td>2</td>\n",
       "      <td>2</td>\n",
       "      <td>21</td>\n",
       "      <td>6</td>\n",
       "      <td>12</td>\n",
       "      <td>6</td>\n",
       "      <td>0</td>\n",
       "    </tr>\n",
       "    <tr>\n",
       "      <th>4</th>\n",
       "      <td>60</td>\n",
       "      <td>1</td>\n",
       "      <td>2</td>\n",
       "      <td>2</td>\n",
       "      <td>5</td>\n",
       "      <td>13</td>\n",
       "      <td>2</td>\n",
       "      <td>16</td>\n",
       "      <td>4</td>\n",
       "      <td>1</td>\n",
       "      <td>...</td>\n",
       "      <td>14</td>\n",
       "      <td>4</td>\n",
       "      <td>10</td>\n",
       "      <td>1</td>\n",
       "      <td>3</td>\n",
       "      <td>2</td>\n",
       "      <td>2</td>\n",
       "      <td>2</td>\n",
       "      <td>2</td>\n",
       "      <td>0</td>\n",
       "    </tr>\n",
       "  </tbody>\n",
       "</table>\n",
       "<p>5 rows × 26 columns</p>\n",
       "</div>"
      ],
      "text/plain": [
       "   Age  Gender  EducationBackground  MaritalStatus  EmpDepartment  EmpJobRole  \\\n",
       "0   32       1                    2              2              5          13   \n",
       "1   47       1                    2              2              5          13   \n",
       "2   40       1                    1              1              5          13   \n",
       "3   41       1                    0              0              3           8   \n",
       "4   60       1                    2              2              5          13   \n",
       "\n",
       "   BusinessTravelFrequency  DistanceFromHome  EmpEducationLevel  \\\n",
       "0                        2                10                  3   \n",
       "1                        2                14                  4   \n",
       "2                        1                 5                  4   \n",
       "3                        2                10                  4   \n",
       "4                        2                16                  4   \n",
       "\n",
       "   EmpEnvironmentSatisfaction  ...  EmpLastSalaryHikePercent  \\\n",
       "0                           4  ...                        12   \n",
       "1                           4  ...                        12   \n",
       "2                           4  ...                        21   \n",
       "3                           2  ...                        15   \n",
       "4                           1  ...                        14   \n",
       "\n",
       "   EmpRelationshipSatisfaction  TotalWorkExperienceInYears  \\\n",
       "0                            4                          10   \n",
       "1                            4                          20   \n",
       "2                            3                          20   \n",
       "3                            2                          23   \n",
       "4                            4                          10   \n",
       "\n",
       "   TrainingTimesLastYear  EmpWorkLifeBalance  ExperienceYearsAtThisCompany  \\\n",
       "0                      2                   2                            10   \n",
       "1                      2                   3                             7   \n",
       "2                      2                   3                            18   \n",
       "3                      2                   2                            21   \n",
       "4                      1                   3                             2   \n",
       "\n",
       "   ExperienceYearsInCurrentRole  YearsSinceLastPromotion  \\\n",
       "0                             7                        0   \n",
       "1                             7                        1   \n",
       "2                            13                        1   \n",
       "3                             6                       12   \n",
       "4                             2                        2   \n",
       "\n",
       "   YearsWithCurrManager  Attrition  \n",
       "0                     8          0  \n",
       "1                     7          0  \n",
       "2                    12          0  \n",
       "3                     6          0  \n",
       "4                     2          0  \n",
       "\n",
       "[5 rows x 26 columns]"
      ]
     },
     "execution_count": 4,
     "metadata": {},
     "output_type": "execute_result"
    }
   ],
   "source": [
    "X.head()"
   ]
  },
  {
   "cell_type": "code",
   "execution_count": 5,
   "id": "36205d9e",
   "metadata": {},
   "outputs": [
    {
     "data": {
      "text/html": [
       "<div>\n",
       "<style scoped>\n",
       "    .dataframe tbody tr th:only-of-type {\n",
       "        vertical-align: middle;\n",
       "    }\n",
       "\n",
       "    .dataframe tbody tr th {\n",
       "        vertical-align: top;\n",
       "    }\n",
       "\n",
       "    .dataframe thead th {\n",
       "        text-align: right;\n",
       "    }\n",
       "</style>\n",
       "<table border=\"1\" class=\"dataframe\">\n",
       "  <thead>\n",
       "    <tr style=\"text-align: right;\">\n",
       "      <th></th>\n",
       "      <th>PerformanceRating</th>\n",
       "    </tr>\n",
       "  </thead>\n",
       "  <tbody>\n",
       "    <tr>\n",
       "      <th>0</th>\n",
       "      <td>3</td>\n",
       "    </tr>\n",
       "    <tr>\n",
       "      <th>1</th>\n",
       "      <td>3</td>\n",
       "    </tr>\n",
       "    <tr>\n",
       "      <th>2</th>\n",
       "      <td>4</td>\n",
       "    </tr>\n",
       "    <tr>\n",
       "      <th>3</th>\n",
       "      <td>3</td>\n",
       "    </tr>\n",
       "    <tr>\n",
       "      <th>4</th>\n",
       "      <td>3</td>\n",
       "    </tr>\n",
       "  </tbody>\n",
       "</table>\n",
       "</div>"
      ],
      "text/plain": [
       "   PerformanceRating\n",
       "0                  3\n",
       "1                  3\n",
       "2                  4\n",
       "3                  3\n",
       "4                  3"
      ]
     },
     "execution_count": 5,
     "metadata": {},
     "output_type": "execute_result"
    }
   ],
   "source": [
    "y.head()"
   ]
  },
  {
   "cell_type": "markdown",
   "id": "2c91d7b0",
   "metadata": {},
   "source": [
    "# Logistic Regression"
   ]
  },
  {
   "cell_type": "code",
   "execution_count": 6,
   "id": "dba7e021",
   "metadata": {},
   "outputs": [],
   "source": [
    "# Splitting the X and y into Test and Train data\n",
    "X_train, X_test, y_train, y_test = train_test_split(X, y, test_size=0.2, random_state=42)\n",
    "\n",
    "\n",
    "feature_selector = SelectKBest(score_func=chi2, k=10)\n",
    "X_train = feature_selector.fit_transform(X_train, y_train)\n",
    "X_test = feature_selector.transform(X_test)"
   ]
  },
  {
   "cell_type": "code",
   "execution_count": 7,
   "id": "44469b99",
   "metadata": {},
   "outputs": [
    {
     "data": {
      "text/plain": [
       "GridSearchCV(cv=5, error_score=0, estimator=LogisticRegression(),\n",
       "             param_grid={'C': [0.1, 1, 5, 2],\n",
       "                         'solver': ['liblinear', 'lbfgs', 'sag']},\n",
       "             scoring='accuracy')"
      ]
     },
     "execution_count": 7,
     "metadata": {},
     "output_type": "execute_result"
    }
   ],
   "source": [
    "# Fine tuning the parameters\n",
    "X_train, X_test, y_train, y_test = train_test_split(X, y, test_size=0.2, random_state=42)\n",
    "reg_model = LogisticRegression()\n",
    "parameters = {'solver':['liblinear', 'lbfgs', 'sag'],\n",
    "             'C':[0.1,1,5,2]}\n",
    "\n",
    "grid_model = GridSearchCV(reg_model, parameters, cv=5, scoring='accuracy', error_score=0)\n",
    "grid_model.fit(X_train,y_train)"
   ]
  },
  {
   "cell_type": "code",
   "execution_count": 8,
   "id": "ec6e0207",
   "metadata": {},
   "outputs": [
    {
     "data": {
      "text/plain": [
       "{'C': 5, 'solver': 'liblinear'}"
      ]
     },
     "execution_count": 8,
     "metadata": {},
     "output_type": "execute_result"
    }
   ],
   "source": [
    "# Viewing the best parameters from the Search CV for fine tuning parameters\n",
    "grid_model.best_params_"
   ]
  },
  {
   "cell_type": "code",
   "execution_count": 9,
   "id": "479444b0",
   "metadata": {},
   "outputs": [
    {
     "data": {
      "text/plain": [
       "0.8421559268098647"
      ]
     },
     "execution_count": 9,
     "metadata": {},
     "output_type": "execute_result"
    }
   ],
   "source": [
    "# Viewing the best Score from the Search CV for fine tuning parameters\n",
    "grid_model.best_score_"
   ]
  },
  {
   "cell_type": "code",
   "execution_count": 10,
   "id": "c46b2311",
   "metadata": {},
   "outputs": [
    {
     "data": {
      "text/plain": [
       "LogisticRegression(C=5, solver='liblinear')"
      ]
     },
     "execution_count": 10,
     "metadata": {},
     "output_type": "execute_result"
    }
   ],
   "source": [
    "# Logistic Regression modeling and evaluation\n",
    "X_train, X_test, y_train, y_test = train_test_split(X, y, test_size=0.3, random_state=42)\n",
    "reg_model = LogisticRegression(solver='liblinear' ,C=5)\n",
    "reg_model.fit(X_train, y_train)"
   ]
  },
  {
   "cell_type": "code",
   "execution_count": 11,
   "id": "25cda6e0",
   "metadata": {},
   "outputs": [
    {
     "name": "stdout",
     "output_type": "stream",
     "text": [
      "Stored 'reg_model' (LogisticRegression)\n",
      "Stored 'reg_df' (DataFrame)\n"
     ]
    }
   ],
   "source": [
    "reg_df = pd.concat([X_test, y_test], axis=1)\n",
    "%store reg_model\n",
    "%store reg_df"
   ]
  },
  {
   "cell_type": "markdown",
   "id": "22f4f557",
   "metadata": {},
   "source": [
    "# Random Forest Classifier"
   ]
  },
  {
   "cell_type": "code",
   "execution_count": 12,
   "id": "9abdb4c7",
   "metadata": {},
   "outputs": [
    {
     "name": "stdout",
     "output_type": "stream",
     "text": [
      "Top 10 features:\n",
      "                         Feature  Importance\n",
      "16      EmpLastSalaryHikePercent    0.241547\n",
      "9     EmpEnvironmentSatisfaction    0.199806\n",
      "23       YearsSinceLastPromotion    0.106140\n",
      "22  ExperienceYearsInCurrentRole    0.043889\n",
      "5                     EmpJobRole    0.036006\n",
      "10                 EmpHourlyRate    0.032357\n",
      "4                  EmpDepartment    0.031001\n",
      "21  ExperienceYearsAtThisCompany    0.026876\n",
      "7               DistanceFromHome    0.026859\n",
      "20            EmpWorkLifeBalance    0.024379\n"
     ]
    }
   ],
   "source": [
    "# Split the data into training and testing sets\n",
    "X_train, X_test, y_train, y_test = train_test_split(X, y, test_size=0.2, random_state=42)\n",
    "\n",
    "# Create the Random Forest Classifier\n",
    "rfc_model = RandomForestClassifier(random_state=42)\n",
    "\n",
    "# Train the model\n",
    "rfc_model.fit(X_train, y_train)\n",
    "\n",
    "# Calculate feature importances\n",
    "feature_importances = rfc_model.feature_importances_\n",
    "\n",
    "# Create a DataFrame to store feature importance scores along with corresponding feature names\n",
    "feature_importance_df = pd.DataFrame({'Feature': X.columns, 'Importance': feature_importances})\n",
    "\n",
    "# Sort the DataFrame by feature importance in descending order\n",
    "feature_importance_df = feature_importance_df.sort_values(by='Importance', ascending=False)\n",
    "\n",
    "# Display the top 10 important features\n",
    "top_k_features = 10\n",
    "top_features = feature_importance_df.head(top_k_features)\n",
    "\n",
    "print(\"Top\", top_k_features, \"features:\")\n",
    "print(top_features)\n",
    "\n",
    "# Select the top K features for further analysis\n",
    "selected_features = top_features['Feature'].tolist()\n",
    "X_train = X_train[selected_features]\n",
    "X_test= X_test[selected_features]"
   ]
  },
  {
   "cell_type": "code",
   "execution_count": 13,
   "id": "116ef933",
   "metadata": {},
   "outputs": [
    {
     "data": {
      "text/plain": [
       "RandomizedSearchCV(cv=3, estimator=RandomForestClassifier(n_estimators=50),\n",
       "                   param_distributions={'criterion': ['gini', 'log_loss'],\n",
       "                                        'max_depth': [3, 10, 8],\n",
       "                                        'max_features': [6, 9, 12, 15]})"
      ]
     },
     "execution_count": 13,
     "metadata": {},
     "output_type": "execute_result"
    }
   ],
   "source": [
    "# Spliiting Train and Test dataset\n",
    "X_train, X_test, y_train, y_test = train_test_split(X, y, test_size=0.2, random_state=42)\n",
    "rfc_model = RandomForestClassifier(n_estimators=50)\n",
    "parameters = {\"max_depth\": [3,10,8],\n",
    "              \"max_features\": [6,9,12,15],\n",
    "              \"criterion\": [\"gini\",\"log_loss\"]}\n",
    "\n",
    "rscv_model = RandomizedSearchCV (rfc_model, param_distributions=parameters,cv=3)\n",
    "rscv_model.fit(X_train,y_train)"
   ]
  },
  {
   "cell_type": "code",
   "execution_count": 14,
   "id": "6de026e8",
   "metadata": {},
   "outputs": [
    {
     "data": {
      "text/plain": [
       "{'max_features': 6, 'max_depth': 10, 'criterion': 'gini'}"
      ]
     },
     "execution_count": 14,
     "metadata": {},
     "output_type": "execute_result"
    }
   ],
   "source": [
    "# Viewing the best parameters from the Search CV for fine tuning parameters\n",
    "rscv_model.best_params_"
   ]
  },
  {
   "cell_type": "code",
   "execution_count": 15,
   "id": "1c977631",
   "metadata": {},
   "outputs": [
    {
     "data": {
      "text/plain": [
       "0.9456366237482117"
      ]
     },
     "execution_count": 15,
     "metadata": {},
     "output_type": "execute_result"
    }
   ],
   "source": [
    "# Viewing the best Score from the Search CV for fine tuning parameters\n",
    "rscv_model.best_score_"
   ]
  },
  {
   "cell_type": "code",
   "execution_count": 16,
   "id": "7e20ce47",
   "metadata": {},
   "outputs": [
    {
     "data": {
      "text/plain": [
       "RandomForestClassifier(max_depth=10, max_features=6)"
      ]
     },
     "execution_count": 16,
     "metadata": {},
     "output_type": "execute_result"
    }
   ],
   "source": [
    "# Spliiting Train and Test dataset\n",
    "X_train, X_test, y_train, y_test = train_test_split(X, y, test_size=0.3, random_state=42)\n",
    "\n",
    "# Modle Training and evaluation\n",
    "rfc_model = RandomForestClassifier(max_features=6,max_depth= 10,criterion='gini')\n",
    "rfc_model.fit(X_train, y_train)"
   ]
  },
  {
   "cell_type": "code",
   "execution_count": 17,
   "id": "45f30735",
   "metadata": {},
   "outputs": [
    {
     "name": "stdout",
     "output_type": "stream",
     "text": [
      "Stored 'rfc_model' (RandomForestClassifier)\n",
      "Stored 'rfc_df' (DataFrame)\n"
     ]
    }
   ],
   "source": [
    "rfc_df = pd.concat([X_test, y_test], axis=1)\n",
    "%store rfc_model\n",
    "%store rfc_df"
   ]
  },
  {
   "cell_type": "markdown",
   "id": "179e1d69",
   "metadata": {},
   "source": [
    "# Decision Tree Classifier"
   ]
  },
  {
   "cell_type": "code",
   "execution_count": 18,
   "id": "e2e9458c",
   "metadata": {},
   "outputs": [
    {
     "name": "stdout",
     "output_type": "stream",
     "text": [
      "Top 10 features:\n",
      "                         Feature  Importance\n",
      "16      EmpLastSalaryHikePercent    0.299059\n",
      "9     EmpEnvironmentSatisfaction    0.245824\n",
      "23       YearsSinceLastPromotion    0.138450\n",
      "22  ExperienceYearsInCurrentRole    0.060815\n",
      "5                     EmpJobRole    0.047253\n",
      "20            EmpWorkLifeBalance    0.032761\n",
      "7               DistanceFromHome    0.026996\n",
      "10                 EmpHourlyRate    0.022690\n",
      "17   EmpRelationshipSatisfaction    0.016596\n",
      "6        BusinessTravelFrequency    0.014188\n"
     ]
    }
   ],
   "source": [
    "# Split the data into training and testing sets\n",
    "X_train, X_test, y_train, y_test = train_test_split(X, y, test_size=0.2, random_state=42)\n",
    "\n",
    "# Create the Random Forest Classifier\n",
    "dtc_model = DecisionTreeClassifier(random_state=42)\n",
    "\n",
    "# Train the model\n",
    "dtc_model.fit(X_train, y_train)\n",
    "\n",
    "# Calculate feature importances\n",
    "feature_importances = dtc_model.feature_importances_\n",
    "\n",
    "# Create a DataFrame to store feature importance scores along with corresponding feature names\n",
    "feature_importance_df = pd.DataFrame({'Feature': X.columns, 'Importance': feature_importances})\n",
    "\n",
    "# Sort the DataFrame by feature importance in descending order\n",
    "feature_importance_df = feature_importance_df.sort_values(by='Importance', ascending=False)\n",
    "\n",
    "# Display the top 10 important features\n",
    "top_k_features = 10\n",
    "top_features = feature_importance_df.head(top_k_features)\n",
    "\n",
    "print(\"Top\", top_k_features, \"features:\")\n",
    "print(top_features)\n",
    "\n",
    "# Select the top K features for further analysis (optional)\n",
    "selected_features = top_features['Feature'].tolist()\n",
    "X_train = X_train[selected_features]\n",
    "X_test= X_test[selected_features]"
   ]
  },
  {
   "cell_type": "code",
   "execution_count": 19,
   "id": "9732b2b4",
   "metadata": {},
   "outputs": [
    {
     "data": {
      "text/plain": [
       "RandomizedSearchCV(cv=5, estimator=DecisionTreeClassifier(),\n",
       "                   param_distributions={'criterion': ['gini', 'entropy'],\n",
       "                                        'max_depth': [10, 15, 5, 3]})"
      ]
     },
     "execution_count": 19,
     "metadata": {},
     "output_type": "execute_result"
    }
   ],
   "source": [
    "# Splitting the X and y into Test and Train data\n",
    "X_train, X_test, y_train, y_test = train_test_split(X, y, test_size=0.2, random_state=42)\n",
    "dtc_model = DecisionTreeClassifier()\n",
    "parameters = {'max_depth':[10,15,5,3],\n",
    "             'criterion': ['gini','entropy']}\n",
    "\n",
    "rscv_model = RandomizedSearchCV (dtc_model, param_distributions=parameters,cv=5)\n",
    "rscv_model.fit(X_train,y_train)"
   ]
  },
  {
   "cell_type": "code",
   "execution_count": 20,
   "id": "cb8424fe",
   "metadata": {},
   "outputs": [
    {
     "data": {
      "text/plain": [
       "{'max_depth': 10, 'criterion': 'entropy'}"
      ]
     },
     "execution_count": 20,
     "metadata": {},
     "output_type": "execute_result"
    }
   ],
   "source": [
    "# Viewing the best parameters from the Search CV for fine tuning parameters\n",
    "rscv_model.best_params_"
   ]
  },
  {
   "cell_type": "code",
   "execution_count": 21,
   "id": "f68fb62f",
   "metadata": {},
   "outputs": [
    {
     "data": {
      "text/plain": [
       "0.9213115126718947"
      ]
     },
     "execution_count": 21,
     "metadata": {},
     "output_type": "execute_result"
    }
   ],
   "source": [
    "# Viewing the best Score from the Search CV for fine tuning parameters\n",
    "rscv_model.best_score_"
   ]
  },
  {
   "cell_type": "code",
   "execution_count": 22,
   "id": "6437387e",
   "metadata": {},
   "outputs": [
    {
     "data": {
      "text/plain": [
       "DecisionTreeClassifier(criterion='entropy', max_depth=10)"
      ]
     },
     "execution_count": 22,
     "metadata": {},
     "output_type": "execute_result"
    }
   ],
   "source": [
    "# Splitting the X and y into Test and Train data\n",
    "X_train, X_test, y_train, y_test = train_test_split(X, y, test_size=0.3, random_state=42)\n",
    "\n",
    "# Modle Training and evaluation\n",
    "dtc_model = DecisionTreeClassifier(criterion='entropy',max_depth=10)\n",
    "dtc_model.fit(X_train, y_train)"
   ]
  },
  {
   "cell_type": "code",
   "execution_count": 23,
   "id": "c0490ed6",
   "metadata": {},
   "outputs": [
    {
     "name": "stdout",
     "output_type": "stream",
     "text": [
      "Stored 'dtc_model' (DecisionTreeClassifier)\n",
      "Stored 'dtc_df' (DataFrame)\n"
     ]
    }
   ],
   "source": [
    "dtc_df = pd.concat([X_test, y_test], axis=1)\n",
    "%store dtc_model\n",
    "%store dtc_df"
   ]
  },
  {
   "cell_type": "markdown",
   "id": "493e0334",
   "metadata": {},
   "source": [
    "# K Nearest Neighbors Classifier"
   ]
  },
  {
   "cell_type": "code",
   "execution_count": 24,
   "id": "d83e0153",
   "metadata": {},
   "outputs": [],
   "source": [
    "# Splitting the X and y into Test and Train data\n",
    "X_train, X_test, y_train, y_test = train_test_split(X, y, test_size=0.2, random_state=42)\n",
    "\n",
    "# Feature selection\n",
    "feature_selector = SelectKBest(score_func=chi2, k=10)\n",
    "X_train = feature_selector.fit_transform(X_train, y_train)\n",
    "X_test = feature_selector.transform(X_test)"
   ]
  },
  {
   "cell_type": "code",
   "execution_count": 25,
   "id": "80b33f30",
   "metadata": {},
   "outputs": [
    {
     "data": {
      "text/plain": [
       "RandomizedSearchCV(cv=3, estimator=KNeighborsClassifier(),\n",
       "                   param_distributions={'algorithm': ['auto', 'ball_tree',\n",
       "                                                      'kd_tree', 'brute'],\n",
       "                                        'n_neighbors': [3, 5, 7, 10, 15],\n",
       "                                        'weights': ['uniform', 'distance']})"
      ]
     },
     "execution_count": 25,
     "metadata": {},
     "output_type": "execute_result"
    }
   ],
   "source": [
    "# Splitting the X and y into Test and Train data\n",
    "X_train, X_test, y_train, y_test = train_test_split(X, y, test_size=0.2, random_state=40)\n",
    "knn_model = KNeighborsClassifier()\n",
    "parameters = {\"n_neighbors\": [3, 5, 7, 10, 15],\n",
    "              \"weights\": ['uniform', 'distance'],\n",
    "              \"algorithm\": ['auto','ball_tree','kd_tree','brute']}\n",
    "rscv_model = RandomizedSearchCV (knn_model, param_distributions=parameters,cv=3)\n",
    "rscv_model.fit(X_train,y_train)"
   ]
  },
  {
   "cell_type": "code",
   "execution_count": 26,
   "id": "fb95567c",
   "metadata": {},
   "outputs": [
    {
     "data": {
      "text/plain": [
       "{'weights': 'distance', 'n_neighbors': 3, 'algorithm': 'brute'}"
      ]
     },
     "execution_count": 26,
     "metadata": {},
     "output_type": "execute_result"
    }
   ],
   "source": [
    "# Viewing the best parameters from the Search CV for fine tuning parameters\n",
    "rscv_model.best_params_"
   ]
  },
  {
   "cell_type": "code",
   "execution_count": 27,
   "id": "146571a6",
   "metadata": {},
   "outputs": [
    {
     "data": {
      "text/plain": [
       "0.8140200286123033"
      ]
     },
     "execution_count": 27,
     "metadata": {},
     "output_type": "execute_result"
    }
   ],
   "source": [
    "# Viewing the best Score from the Search CV for fine tuning parameters\n",
    "rscv_model.best_score_"
   ]
  },
  {
   "cell_type": "code",
   "execution_count": 28,
   "id": "1064dd7b",
   "metadata": {},
   "outputs": [
    {
     "data": {
      "text/plain": [
       "KNeighborsClassifier(n_neighbors=3)"
      ]
     },
     "execution_count": 28,
     "metadata": {},
     "output_type": "execute_result"
    }
   ],
   "source": [
    "# Splitting the X and y into Test and Train data\n",
    "X_train, X_test, y_train, y_test = train_test_split(X, y, test_size=0.2, random_state=37)\n",
    "\n",
    "# Modle Training and evaluation\n",
    "knn_model = KNeighborsClassifier(n_neighbors=3,algorithm = 'auto', weights = 'uniform')\n",
    "knn_model.fit(X_train, y_train)"
   ]
  },
  {
   "cell_type": "code",
   "execution_count": 29,
   "id": "e0791f1e",
   "metadata": {},
   "outputs": [
    {
     "name": "stdout",
     "output_type": "stream",
     "text": [
      "Stored 'knn_model' (KNeighborsClassifier)\n",
      "Stored 'knn_df' (DataFrame)\n"
     ]
    }
   ],
   "source": [
    "knn_df = pd.concat([X_test, y_test], axis=1)\n",
    "%store knn_model\n",
    "%store knn_df"
   ]
  },
  {
   "cell_type": "markdown",
   "id": "c71f7547",
   "metadata": {},
   "source": [
    "# Multinomial Naive Bayes"
   ]
  },
  {
   "cell_type": "code",
   "execution_count": 30,
   "id": "1036cf9a",
   "metadata": {},
   "outputs": [],
   "source": [
    "# Splitting the X and y into Test and Train data\n",
    "X_train, X_test, y_train, y_test = train_test_split(X, y, test_size=0.2, random_state=42)\n",
    "\n",
    "# Feature selection\n",
    "feature_selector = SelectKBest(score_func=chi2, k=10)\n",
    "X_train = feature_selector.fit_transform(X_train, y_train)\n",
    "X_test = feature_selector.transform(X_test)"
   ]
  },
  {
   "cell_type": "code",
   "execution_count": 31,
   "id": "13118aa6",
   "metadata": {},
   "outputs": [
    {
     "data": {
      "text/plain": [
       "RandomizedSearchCV(cv=3, estimator=MultinomialNB(),\n",
       "                   param_distributions={'alpha': [0.1, 1, 10, 12, 0]})"
      ]
     },
     "execution_count": 31,
     "metadata": {},
     "output_type": "execute_result"
    }
   ],
   "source": [
    "# Splitting the X and y into Test and Train data\n",
    "X_train, X_test, y_train, y_test = train_test_split(X, y, test_size=0.2, random_state=42)\n",
    "mnb_model = MultinomialNB()\n",
    "parameters = {\"alpha\": [0.1,1,10,12,0]}\n",
    "rscv_model = RandomizedSearchCV (mnb_model, param_distributions=parameters,cv=3)\n",
    "rscv_model.fit(X_train,y_train)"
   ]
  },
  {
   "cell_type": "code",
   "execution_count": 32,
   "id": "b8ca45fc",
   "metadata": {},
   "outputs": [
    {
     "data": {
      "text/plain": [
       "{'alpha': 0.1}"
      ]
     },
     "execution_count": 32,
     "metadata": {},
     "output_type": "execute_result"
    }
   ],
   "source": [
    "# Viewing the best parameters from the Search CV for fine tuning parameters\n",
    "rscv_model.best_params_"
   ]
  },
  {
   "cell_type": "code",
   "execution_count": 33,
   "id": "f514375e",
   "metadata": {},
   "outputs": [
    {
     "data": {
      "text/plain": [
       "0.6003814973772056"
      ]
     },
     "execution_count": 33,
     "metadata": {},
     "output_type": "execute_result"
    }
   ],
   "source": [
    "# Viewing the best Score from the Search CV for fine tuning parameters\n",
    "rscv_model.best_score_"
   ]
  },
  {
   "cell_type": "code",
   "execution_count": 34,
   "id": "2aac1fca",
   "metadata": {},
   "outputs": [
    {
     "data": {
      "text/plain": [
       "MultinomialNB(alpha=0.1)"
      ]
     },
     "execution_count": 34,
     "metadata": {},
     "output_type": "execute_result"
    }
   ],
   "source": [
    "# Multinomial Naive Bayes modeling and evaluation\n",
    "X_train, X_test, y_train, y_test = train_test_split(X, y, test_size=0.2, random_state=42)\n",
    "nb_model_Multi = MultinomialNB(alpha=0.1)\n",
    "nb_model_Multi.fit(X_train, y_train)"
   ]
  },
  {
   "cell_type": "code",
   "execution_count": 35,
   "id": "fae00df5",
   "metadata": {},
   "outputs": [
    {
     "name": "stdout",
     "output_type": "stream",
     "text": [
      "Stored 'nb_model_Multi' (MultinomialNB)\n",
      "Stored 'nb_Multi_df' (DataFrame)\n"
     ]
    }
   ],
   "source": [
    "nb_Multi_df = pd.concat([X_test, y_test], axis=1)\n",
    "%store nb_model_Multi\n",
    "%store nb_Multi_df"
   ]
  },
  {
   "cell_type": "markdown",
   "id": "994a538e",
   "metadata": {},
   "source": [
    "# Gaussian Naive Bayes"
   ]
  },
  {
   "cell_type": "code",
   "execution_count": 36,
   "id": "2244086b",
   "metadata": {},
   "outputs": [],
   "source": [
    "# Splitting the X and y into Test and Train data\n",
    "X_train, X_test, y_train, y_test = train_test_split(X, y, test_size=10, random_state=42)\n",
    "\n",
    "# Feature Selection\n",
    "feature_selector = SelectKBest(score_func=chi2, k=10)\n",
    "X_train = feature_selector.fit_transform(X_train, y_train)\n",
    "X_test = feature_selector.transform(X_test)"
   ]
  },
  {
   "cell_type": "code",
   "execution_count": 37,
   "id": "300839af",
   "metadata": {},
   "outputs": [
    {
     "data": {
      "text/plain": [
       "RandomizedSearchCV(cv=3, estimator=GaussianNB(),\n",
       "                   param_distributions={'var_smoothing': [0.1, 1, 10, 12, 0]})"
      ]
     },
     "execution_count": 37,
     "metadata": {},
     "output_type": "execute_result"
    }
   ],
   "source": [
    "# Splitting the X and y into Test and Train data\n",
    "X_train, X_test, y_train, y_test = train_test_split(X, y, test_size=10, random_state=42)\n",
    "mnb_model = GaussianNB()\n",
    "parameters = {\"var_smoothing\": [0.1,1,10,12,0]}\n",
    "rscv_model = RandomizedSearchCV (mnb_model, param_distributions=parameters,cv=3)\n",
    "rscv_model.fit(X_train,y_train)"
   ]
  },
  {
   "cell_type": "code",
   "execution_count": 38,
   "id": "6ded46c7",
   "metadata": {},
   "outputs": [
    {
     "data": {
      "text/plain": [
       "{'var_smoothing': 0}"
      ]
     },
     "execution_count": 38,
     "metadata": {},
     "output_type": "execute_result"
    }
   ],
   "source": [
    "# Viewing the best parameters from the Search CV for fine tuning parameters\n",
    "rscv_model.best_params_"
   ]
  },
  {
   "cell_type": "code",
   "execution_count": 39,
   "id": "50488770",
   "metadata": {},
   "outputs": [
    {
     "data": {
      "text/plain": [
       "0.8032102968798801"
      ]
     },
     "execution_count": 39,
     "metadata": {},
     "output_type": "execute_result"
    }
   ],
   "source": [
    "# Viewing the best Score from the Search CV for fine tuning parameters\n",
    "rscv_model.best_score_"
   ]
  },
  {
   "cell_type": "code",
   "execution_count": 40,
   "id": "27fe2516",
   "metadata": {},
   "outputs": [
    {
     "data": {
      "text/plain": [
       "GaussianNB(var_smoothing=0)"
      ]
     },
     "execution_count": 40,
     "metadata": {},
     "output_type": "execute_result"
    }
   ],
   "source": [
    "# Multinomial Naive Bayes modeling and evaluation\n",
    "X_train, X_test, y_train, y_test = train_test_split(X, y, test_size=12, random_state=30)\n",
    "nb_model_Gauss = GaussianNB(var_smoothing=0)\n",
    "nb_model_Gauss.fit(X_train, y_train)"
   ]
  },
  {
   "cell_type": "code",
   "execution_count": 41,
   "id": "5ba50f1d",
   "metadata": {},
   "outputs": [
    {
     "name": "stdout",
     "output_type": "stream",
     "text": [
      "Stored 'nb_model_Gauss' (GaussianNB)\n",
      "Stored 'nb_Gauss_df' (DataFrame)\n"
     ]
    }
   ],
   "source": [
    "nb_Gauss_df = pd.concat([X_test, y_test], axis=1)\n",
    "%store nb_model_Gauss\n",
    "%store nb_Gauss_df"
   ]
  },
  {
   "cell_type": "markdown",
   "id": "15aecc6c",
   "metadata": {},
   "source": [
    "# Bernoulli Naive Bayes"
   ]
  },
  {
   "cell_type": "code",
   "execution_count": 42,
   "id": "d8c2e6d8",
   "metadata": {},
   "outputs": [],
   "source": [
    "# Splitting the X and y into Test and Train data\n",
    "X_train, X_test, y_train, y_test = train_test_split(X, y, test_size=10, random_state=42)\n",
    "\n",
    "# Feature selection\n",
    "feature_selector = SelectKBest(score_func=chi2, k=10)\n",
    "X_train = feature_selector.fit_transform(X_train, y_train)\n",
    "X_test = feature_selector.transform(X_test)"
   ]
  },
  {
   "cell_type": "code",
   "execution_count": 43,
   "id": "3fe4f41a",
   "metadata": {},
   "outputs": [
    {
     "data": {
      "text/plain": [
       "RandomizedSearchCV(cv=3, estimator=BernoulliNB(),\n",
       "                   param_distributions={'alpha': [0.1, 0.5, 1.0, 1.5]})"
      ]
     },
     "execution_count": 43,
     "metadata": {},
     "output_type": "execute_result"
    }
   ],
   "source": [
    "# Splitting the X and y into Test and Train data\n",
    "X_train, X_test, y_train, y_test = train_test_split(X, y, test_size=10, random_state=42)\n",
    "bnb_model = BernoulliNB()\n",
    "parameters = {'alpha': [0.1, 0.5, 1.0, 1.5]}\n",
    "rscv_model = RandomizedSearchCV (bnb_model, param_distributions=parameters,cv=3)\n",
    "rscv_model.fit(X_train,y_train)"
   ]
  },
  {
   "cell_type": "code",
   "execution_count": 44,
   "id": "b9c8d31b",
   "metadata": {},
   "outputs": [
    {
     "data": {
      "text/plain": [
       "{'alpha': 1.0}"
      ]
     },
     "execution_count": 44,
     "metadata": {},
     "output_type": "execute_result"
    }
   ],
   "source": [
    "# Viewing the best parameters from the Search CV for fine tuning parameters\n",
    "rscv_model.best_params_"
   ]
  },
  {
   "cell_type": "code",
   "execution_count": 45,
   "id": "29886ced",
   "metadata": {},
   "outputs": [
    {
     "data": {
      "text/plain": [
       "0.6018343296778705"
      ]
     },
     "execution_count": 45,
     "metadata": {},
     "output_type": "execute_result"
    }
   ],
   "source": [
    "# Viewing the best Score from the Search CV for fine tuning parameters\n",
    "rscv_model.best_score_"
   ]
  },
  {
   "cell_type": "code",
   "execution_count": 46,
   "id": "4c66a2b2",
   "metadata": {},
   "outputs": [
    {
     "data": {
      "text/plain": [
       "BernoulliNB()"
      ]
     },
     "execution_count": 46,
     "metadata": {},
     "output_type": "execute_result"
    }
   ],
   "source": [
    "# Multinomial Naive Bayes modeling and evaluation\n",
    "X_train, X_test, y_train, y_test = train_test_split(X, y, test_size=15, random_state=15)\n",
    "nb_model_Bern = BernoulliNB(alpha=1.0)\n",
    "nb_model_Bern.fit(X_train, y_train)"
   ]
  },
  {
   "cell_type": "code",
   "execution_count": 47,
   "id": "30cb184d",
   "metadata": {},
   "outputs": [
    {
     "name": "stdout",
     "output_type": "stream",
     "text": [
      "Stored 'nb_model_Bern' (BernoulliNB)\n",
      "Stored 'nb_Bern_df' (DataFrame)\n"
     ]
    }
   ],
   "source": [
    "nb_Bern_df = pd.concat([X_test, y_test], axis=1)\n",
    "%store nb_model_Bern\n",
    "%store nb_Bern_df"
   ]
  }
 ],
 "metadata": {
  "kernelspec": {
   "display_name": "Python 3 (ipykernel)",
   "language": "python",
   "name": "python3"
  },
  "language_info": {
   "codemirror_mode": {
    "name": "ipython",
    "version": 3
   },
   "file_extension": ".py",
   "mimetype": "text/x-python",
   "name": "python",
   "nbconvert_exporter": "python",
   "pygments_lexer": "ipython3",
   "version": "3.9.12"
  }
 },
 "nbformat": 4,
 "nbformat_minor": 5
}
